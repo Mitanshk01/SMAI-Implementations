{
 "cells": [
  {
   "cell_type": "code",
   "execution_count": 1,
   "metadata": {},
   "outputs": [
    {
     "name": "stderr",
     "output_type": "stream",
     "text": [
      "/Users/mitanshk/.pyenv/versions/3.11.4/lib/python3.11/site-packages/tqdm/auto.py:21: TqdmWarning: IProgress not found. Please update jupyter and ipywidgets. See https://ipywidgets.readthedocs.io/en/stable/user_install.html\n",
      "  from .autonotebook import tqdm as notebook_tqdm\n"
     ]
    }
   ],
   "source": [
    "import torchvision\n",
    "from torchvision import datasets, transforms\n",
    "from torch.utils.data import TensorDataset, DataLoader\n",
    "import torch\n",
    "from sklearn.model_selection import train_test_split\n",
    "import numpy as np\n",
    "import matplotlib.pyplot as plt\n",
    "import torch.nn as nn\n",
    "import torch.optim as optim\n",
    "from torch.utils.data import DataLoader\n",
    "import os\n",
    "import cv2\n",
    "from sklearn.metrics import accuracy_score\n",
    "import torch.nn.functional as F\n",
    "import wandb"
   ]
  },
  {
   "cell_type": "code",
   "execution_count": 2,
   "metadata": {},
   "outputs": [
    {
     "name": "stderr",
     "output_type": "stream",
     "text": [
      "Failed to detect the name of this notebook, you can set it manually with the WANDB_NOTEBOOK_NAME environment variable to enable code saving.\n",
      "\u001b[34m\u001b[1mwandb\u001b[0m: Currently logged in as: \u001b[33mmitanshkayathwal\u001b[0m (\u001b[33mmmavericks\u001b[0m). Use \u001b[1m`wandb login --relogin`\u001b[0m to force relogin\n",
      "\u001b[34m\u001b[1mwandb\u001b[0m: \u001b[33mWARNING\u001b[0m If you're specifying your api key in code, ensure this code is not shared publicly.\n",
      "\u001b[34m\u001b[1mwandb\u001b[0m: \u001b[33mWARNING\u001b[0m Consider setting the WANDB_API_KEY environment variable, or running `wandb login` from the command line.\n",
      "\u001b[34m\u001b[1mwandb\u001b[0m: Appending key for api.wandb.ai to your netrc file: /Users/mitanshk/.netrc\n"
     ]
    },
    {
     "data": {
      "text/plain": [
       "True"
      ]
     },
     "execution_count": 2,
     "metadata": {},
     "output_type": "execute_result"
    }
   ],
   "source": [
    "wandb.login(key='288db8f5afccc57f269ae50ac116d15047b1b705')"
   ]
  },
  {
   "cell_type": "code",
   "execution_count": 3,
   "metadata": {},
   "outputs": [],
   "source": [
    "source_directory = './double_mnist_seed_123_image_size_64_64/train/'\n",
    "\n",
    "X_train = []\n",
    "y_train = []\n",
    "\n",
    "for root, dirs, files in os.walk(source_directory):\n",
    "    for file in files:\n",
    "        if file[0]==\".\":\n",
    "            continue\n",
    "        subdirectory_name = os.path.basename(root)\n",
    "        image_path = os.path.join(root, file)\n",
    "        image = cv2.imread(image_path, cv2.IMREAD_GRAYSCALE)\n",
    "        X_train.append(image)\n",
    "        one_hot_outp = [0] * 10\n",
    "        one_hot_outp[int(subdirectory_name[0])]=1\n",
    "        one_hot_outp[int(subdirectory_name[1])]=1\n",
    "        y_train.append(one_hot_outp)\n",
    "\n",
    "X_train = np.array(X_train)\n",
    "y_train = np.array(y_train)"
   ]
  },
  {
   "cell_type": "code",
   "execution_count": 4,
   "metadata": {},
   "outputs": [],
   "source": [
    "source_directory = './double_mnist_seed_123_image_size_64_64/val/'\n",
    "\n",
    "X_val = []\n",
    "y_val = []\n",
    "\n",
    "for root, dirs, files in os.walk(source_directory):\n",
    "    for file in files:\n",
    "        if file[0]==\".\":\n",
    "            continue\n",
    "        subdirectory_name = os.path.basename(root)\n",
    "        image_path = os.path.join(root, file)\n",
    "        image = cv2.imread(image_path, cv2.IMREAD_GRAYSCALE)\n",
    "        X_val.append(image)\n",
    "        one_hot_outp = [0] * 10\n",
    "        one_hot_outp[int(subdirectory_name[0])]=1\n",
    "        one_hot_outp[int(subdirectory_name[1])]=1\n",
    "        y_val.append(one_hot_outp)\n",
    "\n",
    "X_val = np.array(X_val)\n",
    "y_val = np.array(y_val)"
   ]
  },
  {
   "cell_type": "code",
   "execution_count": 5,
   "metadata": {},
   "outputs": [],
   "source": [
    "source_directory = './double_mnist_seed_123_image_size_64_64/test/'\n",
    "\n",
    "X_test = []\n",
    "y_test = []\n",
    "\n",
    "for root, dirs, files in os.walk(source_directory):\n",
    "    for file in files:\n",
    "        if file[0]==\".\":\n",
    "            continue\n",
    "        subdirectory_name = os.path.basename(root)\n",
    "        image_path = os.path.join(root, file)\n",
    "        image = cv2.imread(image_path, cv2.IMREAD_GRAYSCALE)\n",
    "        X_test.append(image)\n",
    "        one_hot_outp = [0] * 10\n",
    "        one_hot_outp[int(subdirectory_name[0])]=1\n",
    "        one_hot_outp[int(subdirectory_name[1])]=1\n",
    "        y_test.append(one_hot_outp)\n",
    "\n",
    "X_test = np.array(X_test)\n",
    "y_test = np.array(y_test)"
   ]
  },
  {
   "cell_type": "code",
   "execution_count": 9,
   "metadata": {},
   "outputs": [],
   "source": [
    "class MLPDoubleMNIST(nn.Module):\n",
    "    def __init__(self, input_size, hidden_sizes, num_classes, activation_type='sigmoid'):\n",
    "        super(MLPDoubleMNIST, self).__init__()\n",
    "        self.layers = nn.ModuleList()\n",
    "        self.activation_type = activation_type\n",
    "        self.layers.append(nn.Linear(input_size, hidden_sizes[0]))\n",
    "        self.layers.append(self.activation(activation_type))\n",
    "        \n",
    "        for i in range(1, len(hidden_sizes)):\n",
    "            self.layers.append(nn.Linear(hidden_sizes[i-1], hidden_sizes[i]))\n",
    "            self.layers.append(self.activation(activation_type))\n",
    "    \n",
    "        self.layers.append(nn.Linear(hidden_sizes[-1], num_classes))\n",
    "        self.layers.append(nn.Sigmoid())\n",
    "\n",
    "    def forward(self, x):\n",
    "        x = x.view(x.size(0), -1)\n",
    "        for layer in self.layers:\n",
    "            x = layer(x)\n",
    "        return x\n",
    "\n",
    "    def activation(self, activation):\n",
    "        if activation == 'relu':\n",
    "            return nn.ReLU()\n",
    "        elif activation == 'tanh':\n",
    "            return nn.Tanh()\n",
    "        elif activation == 'sigmoid':\n",
    "            return nn.Sigmoid()\n",
    "\n",
    "    def train(self, X, y, optimizer):\n",
    "        outputs = self.forward(X)\n",
    "        loss = nn.CrossEntropyLoss()(outputs, y)\n",
    "        optimizer.zero_grad()\n",
    "        loss.backward()\n",
    "        optimizer.step()\n",
    "        \n",
    "        return loss.item()\n",
    "\n",
    "    def predict(self, X):\n",
    "        outputs = self.forward(X)\n",
    "        outputs = outputs\n",
    "        outputs = (outputs > 0.5).float()\n",
    "        return outputs\n",
    "    \n",
    "    def evaluate_accuracy(self, X, y):\n",
    "        predicted = self.predict(X)\n",
    "        correct = (predicted == y).all(dim=1).sum()\n",
    "        accuracy = correct.item() / len(y)\n",
    "        return accuracy"
   ]
  },
  {
   "cell_type": "code",
   "execution_count": 10,
   "metadata": {},
   "outputs": [
    {
     "name": "stdout",
     "output_type": "stream",
     "text": [
      "Epoch 1, Train Loss: 4.270215692996978, Train Accuracy: 0.97%\n",
      "Epoch 1, Validation Loss: 4.154553555488587, Validation Accuracy: 2.98%\n",
      "Epoch 2, Train Loss: 4.234031669855118, Train Accuracy: 1.57%\n",
      "Epoch 2, Validation Loss: 4.114993722915649, Validation Accuracy: 3.19%\n",
      "Epoch 3, Train Loss: 4.196339564323425, Train Accuracy: 2.67%\n",
      "Epoch 3, Validation Loss: 4.068674428939819, Validation Accuracy: 4.23%\n",
      "Epoch 4, Train Loss: 4.158682403087616, Train Accuracy: 2.65%\n",
      "Epoch 4, Validation Loss: 4.028487662315369, Validation Accuracy: 4.96%\n",
      "Epoch 5, Train Loss: 4.136294132471084, Train Accuracy: 2.89%\n",
      "Epoch 5, Validation Loss: 3.992941209793091, Validation Accuracy: 6.08%\n",
      "Epoch 6, Train Loss: 4.113805425405502, Train Accuracy: 2.99%\n",
      "Epoch 6, Validation Loss: 3.977691025733948, Validation Accuracy: 5.55%\n",
      "Epoch 7, Train Loss: 4.096072979927063, Train Accuracy: 3.04%\n",
      "Epoch 7, Validation Loss: 3.9687238235473634, Validation Accuracy: 5.59%\n",
      "Epoch 8, Train Loss: 4.085781814575196, Train Accuracy: 3.21%\n",
      "Epoch 8, Validation Loss: 3.957146901130676, Validation Accuracy: 6.20%\n",
      "Epoch 9, Train Loss: 4.073695296764374, Train Accuracy: 3.13%\n",
      "Epoch 9, Validation Loss: 3.9366047267913817, Validation Accuracy: 7.07%\n",
      "Epoch 10, Train Loss: 4.063742794752121, Train Accuracy: 3.34%\n",
      "Epoch 10, Validation Loss: 3.9265599775314333, Validation Accuracy: 6.88%\n"
     ]
    }
   ],
   "source": [
    "train_dataset = TensorDataset(torch.from_numpy(X_train).float().unsqueeze(1), torch.from_numpy(y_train).float())\n",
    "train_loader = torch.utils.data.DataLoader(train_dataset, batch_size=64, shuffle=True)\n",
    "\n",
    "val_dataset = TensorDataset(torch.from_numpy(X_val).float().unsqueeze(1), torch.from_numpy(y_val).float())\n",
    "val_loader = torch.utils.data.DataLoader(val_dataset, batch_size=64, shuffle=True)\n",
    "\n",
    "input_size = 64**2\n",
    "hidden_sizes = [128, 64] \n",
    "num_classes = 10\n",
    "batch_size = 64\n",
    "model = MLPDoubleMNIST(input_size, hidden_sizes, num_classes)\n",
    "\n",
    "optimizer = optim.Adam(model.parameters(), lr=0.001)\n",
    "\n",
    "num_epochs = 10\n",
    "\n",
    "for epoch in range(num_epochs):\n",
    "    train_loss = 0.0\n",
    "    train_accuracy = 0\n",
    "    val_loss = 0\n",
    "    val_accuracy = 0\n",
    "    total_train = 0\n",
    "    total_val = 0\n",
    "    for i, data in enumerate(train_loader, 0):\n",
    "        inputs, labels = data\n",
    "        loss = model.train(inputs, labels, optimizer)\n",
    "        train_loss += loss\n",
    "        total_train = total_train + 1\n",
    "        train_accuracy += model.evaluate_accuracy(inputs, labels)\n",
    "\n",
    "    for i, data in enumerate(val_loader, 0):\n",
    "        inputs, labels = data\n",
    "        loss = model.train(inputs, labels, optimizer)\n",
    "        val_loss += loss\n",
    "        total_val = total_val + 1\n",
    "        val_accuracy += model.evaluate_accuracy(inputs, labels)\n",
    "    \n",
    "    train_accuracy = 100*train_accuracy/total_train\n",
    "    val_accuracy = 100*val_accuracy/total_val\n",
    "\n",
    "    print(f\"Epoch {epoch + 1}, Train Loss: {train_loss / len(train_loader)}, Train Accuracy: {train_accuracy:.2f}%\")\n",
    "    print(f\"Epoch {epoch + 1}, Validation Loss: {val_loss / len(val_loader)}, Validation Accuracy: {val_accuracy:.2f}%\")"
   ]
  },
  {
   "cell_type": "code",
   "execution_count": 91,
   "metadata": {},
   "outputs": [
    {
     "name": "stderr",
     "output_type": "stream",
     "text": [
      "\u001b[34m\u001b[1mwandb\u001b[0m: Currently logged in as: \u001b[33mmitanshkayathwal\u001b[0m. Use \u001b[1m`wandb login --relogin`\u001b[0m to force relogin\n"
     ]
    },
    {
     "data": {
      "text/html": [
       "Tracking run with wandb version 0.15.12"
      ],
      "text/plain": [
       "<IPython.core.display.HTML object>"
      ]
     },
     "metadata": {},
     "output_type": "display_data"
    },
    {
     "data": {
      "text/html": [
       "Run data is saved locally in <code>/Users/mitanshk/Desktop/assignment-3-Mitanshk01/wandb/run-20231026_092317-iwe3ix4n</code>"
      ],
      "text/plain": [
       "<IPython.core.display.HTML object>"
      ]
     },
     "metadata": {},
     "output_type": "display_data"
    },
    {
     "data": {
      "text/html": [
       "Syncing run <strong><a href='https://wandb.ai/mitanshkayathwal/SMAI_As3_Q5_1/runs/iwe3ix4n' target=\"_blank\">polar-feather-1</a></strong> to <a href='https://wandb.ai/mitanshkayathwal/SMAI_As3_Q5_1' target=\"_blank\">Weights & Biases</a> (<a href='https://wandb.me/run' target=\"_blank\">docs</a>)<br/>"
      ],
      "text/plain": [
       "<IPython.core.display.HTML object>"
      ]
     },
     "metadata": {},
     "output_type": "display_data"
    },
    {
     "data": {
      "text/html": [
       " View project at <a href='https://wandb.ai/mitanshkayathwal/SMAI_As3_Q5_1' target=\"_blank\">https://wandb.ai/mitanshkayathwal/SMAI_As3_Q5_1</a>"
      ],
      "text/plain": [
       "<IPython.core.display.HTML object>"
      ]
     },
     "metadata": {},
     "output_type": "display_data"
    },
    {
     "data": {
      "text/html": [
       " View run at <a href='https://wandb.ai/mitanshkayathwal/SMAI_As3_Q5_1/runs/iwe3ix4n' target=\"_blank\">https://wandb.ai/mitanshkayathwal/SMAI_As3_Q5_1/runs/iwe3ix4n</a>"
      ],
      "text/plain": [
       "<IPython.core.display.HTML object>"
      ]
     },
     "metadata": {},
     "output_type": "display_data"
    },
    {
     "data": {
      "text/html": [
       "Finishing last run (ID:iwe3ix4n) before initializing another..."
      ],
      "text/plain": [
       "<IPython.core.display.HTML object>"
      ]
     },
     "metadata": {},
     "output_type": "display_data"
    },
    {
     "data": {
      "text/html": [
       "Waiting for W&B process to finish... <strong style=\"color:green\">(success).</strong>"
      ],
      "text/plain": [
       "<IPython.core.display.HTML object>"
      ]
     },
     "metadata": {},
     "output_type": "display_data"
    },
    {
     "name": "stderr",
     "output_type": "stream",
     "text": [
      "wandb: WARNING Source type is set to 'repo' but some required information is missing from the environment. A job will not be created from this run. See https://docs.wandb.ai/guides/launch/create-job\n"
     ]
    },
    {
     "data": {
      "text/html": [
       "<style>\n",
       "    table.wandb td:nth-child(1) { padding: 0 10px; text-align: left ; width: auto;} td:nth-child(2) {text-align: left ; width: 100%}\n",
       "    .wandb-row { display: flex; flex-direction: row; flex-wrap: wrap; justify-content: flex-start; width: 100% }\n",
       "    .wandb-col { display: flex; flex-direction: column; flex-basis: 100%; flex: 1; padding: 10px; }\n",
       "    </style>\n",
       "<div class=\"wandb-row\"><div class=\"wandb-col\"><h3>Run history:</h3><br/><table class=\"wandb\"><tr><td>Train Loss</td><td>▁</td></tr><tr><td>Training Accuracy</td><td>▁</td></tr><tr><td>Validation Accuracy</td><td>▁</td></tr><tr><td>Validation Loss</td><td>▁</td></tr></table><br/></div><div class=\"wandb-col\"><h3>Run summary:</h3><br/><table class=\"wandb\"><tr><td>Train Loss</td><td>4.21137</td></tr><tr><td>Training Accuracy</td><td>0.00469</td></tr><tr><td>Validation Accuracy</td><td>0.00658</td></tr><tr><td>Validation Loss</td><td>4.15625</td></tr></table><br/></div></div>"
      ],
      "text/plain": [
       "<IPython.core.display.HTML object>"
      ]
     },
     "metadata": {},
     "output_type": "display_data"
    },
    {
     "data": {
      "text/html": [
       " View run <strong style=\"color:#cdcd00\">polar-feather-1</strong> at: <a href='https://wandb.ai/mitanshkayathwal/SMAI_As3_Q5_1/runs/iwe3ix4n' target=\"_blank\">https://wandb.ai/mitanshkayathwal/SMAI_As3_Q5_1/runs/iwe3ix4n</a><br/>Synced 4 W&B file(s), 0 media file(s), 0 artifact file(s) and 0 other file(s)"
      ],
      "text/plain": [
       "<IPython.core.display.HTML object>"
      ]
     },
     "metadata": {},
     "output_type": "display_data"
    },
    {
     "data": {
      "text/html": [
       "Find logs at: <code>./wandb/run-20231026_092317-iwe3ix4n/logs</code>"
      ],
      "text/plain": [
       "<IPython.core.display.HTML object>"
      ]
     },
     "metadata": {},
     "output_type": "display_data"
    },
    {
     "data": {
      "text/html": [
       "Successfully finished last run (ID:iwe3ix4n). Initializing new run:<br/>"
      ],
      "text/plain": [
       "<IPython.core.display.HTML object>"
      ]
     },
     "metadata": {},
     "output_type": "display_data"
    },
    {
     "data": {
      "text/html": [
       "Tracking run with wandb version 0.15.12"
      ],
      "text/plain": [
       "<IPython.core.display.HTML object>"
      ]
     },
     "metadata": {},
     "output_type": "display_data"
    },
    {
     "data": {
      "text/html": [
       "Run data is saved locally in <code>/Users/mitanshk/Desktop/assignment-3-Mitanshk01/wandb/run-20231026_092329-w85h5rdk</code>"
      ],
      "text/plain": [
       "<IPython.core.display.HTML object>"
      ]
     },
     "metadata": {},
     "output_type": "display_data"
    },
    {
     "data": {
      "text/html": [
       "Syncing run <strong><a href='https://wandb.ai/mitanshkayathwal/SMAI_As3_Q5_1/runs/w85h5rdk' target=\"_blank\">cerulean-bush-2</a></strong> to <a href='https://wandb.ai/mitanshkayathwal/SMAI_As3_Q5_1' target=\"_blank\">Weights & Biases</a> (<a href='https://wandb.me/run' target=\"_blank\">docs</a>)<br/>"
      ],
      "text/plain": [
       "<IPython.core.display.HTML object>"
      ]
     },
     "metadata": {},
     "output_type": "display_data"
    },
    {
     "data": {
      "text/html": [
       " View project at <a href='https://wandb.ai/mitanshkayathwal/SMAI_As3_Q5_1' target=\"_blank\">https://wandb.ai/mitanshkayathwal/SMAI_As3_Q5_1</a>"
      ],
      "text/plain": [
       "<IPython.core.display.HTML object>"
      ]
     },
     "metadata": {},
     "output_type": "display_data"
    },
    {
     "data": {
      "text/html": [
       " View run at <a href='https://wandb.ai/mitanshkayathwal/SMAI_As3_Q5_1/runs/w85h5rdk' target=\"_blank\">https://wandb.ai/mitanshkayathwal/SMAI_As3_Q5_1/runs/w85h5rdk</a>"
      ],
      "text/plain": [
       "<IPython.core.display.HTML object>"
      ]
     },
     "metadata": {},
     "output_type": "display_data"
    },
    {
     "data": {
      "text/html": [
       "Finishing last run (ID:w85h5rdk) before initializing another..."
      ],
      "text/plain": [
       "<IPython.core.display.HTML object>"
      ]
     },
     "metadata": {},
     "output_type": "display_data"
    },
    {
     "data": {
      "text/html": [
       "Waiting for W&B process to finish... <strong style=\"color:green\">(success).</strong>"
      ],
      "text/plain": [
       "<IPython.core.display.HTML object>"
      ]
     },
     "metadata": {},
     "output_type": "display_data"
    },
    {
     "name": "stderr",
     "output_type": "stream",
     "text": [
      "wandb: WARNING Source type is set to 'repo' but some required information is missing from the environment. A job will not be created from this run. See https://docs.wandb.ai/guides/launch/create-job\n"
     ]
    },
    {
     "data": {
      "text/html": [
       "<style>\n",
       "    table.wandb td:nth-child(1) { padding: 0 10px; text-align: left ; width: auto;} td:nth-child(2) {text-align: left ; width: 100%}\n",
       "    .wandb-row { display: flex; flex-direction: row; flex-wrap: wrap; justify-content: flex-start; width: 100% }\n",
       "    .wandb-col { display: flex; flex-direction: column; flex-basis: 100%; flex: 1; padding: 10px; }\n",
       "    </style>\n",
       "<div class=\"wandb-row\"><div class=\"wandb-col\"><h3>Run history:</h3><br/><table class=\"wandb\"><tr><td>Train Loss</td><td>▁</td></tr><tr><td>Training Accuracy</td><td>▁</td></tr><tr><td>Validation Accuracy</td><td>▁</td></tr><tr><td>Validation Loss</td><td>▁</td></tr></table><br/></div><div class=\"wandb-col\"><h3>Run summary:</h3><br/><table class=\"wandb\"><tr><td>Train Loss</td><td>4.07068</td></tr><tr><td>Training Accuracy</td><td>0.03122</td></tr><tr><td>Validation Accuracy</td><td>0.01703</td></tr><tr><td>Validation Loss</td><td>4.01656</td></tr></table><br/></div></div>"
      ],
      "text/plain": [
       "<IPython.core.display.HTML object>"
      ]
     },
     "metadata": {},
     "output_type": "display_data"
    },
    {
     "data": {
      "text/html": [
       " View run <strong style=\"color:#cdcd00\">cerulean-bush-2</strong> at: <a href='https://wandb.ai/mitanshkayathwal/SMAI_As3_Q5_1/runs/w85h5rdk' target=\"_blank\">https://wandb.ai/mitanshkayathwal/SMAI_As3_Q5_1/runs/w85h5rdk</a><br/>Synced 4 W&B file(s), 0 media file(s), 0 artifact file(s) and 0 other file(s)"
      ],
      "text/plain": [
       "<IPython.core.display.HTML object>"
      ]
     },
     "metadata": {},
     "output_type": "display_data"
    },
    {
     "data": {
      "text/html": [
       "Find logs at: <code>./wandb/run-20231026_092329-w85h5rdk/logs</code>"
      ],
      "text/plain": [
       "<IPython.core.display.HTML object>"
      ]
     },
     "metadata": {},
     "output_type": "display_data"
    },
    {
     "data": {
      "text/html": [
       "Successfully finished last run (ID:w85h5rdk). Initializing new run:<br/>"
      ],
      "text/plain": [
       "<IPython.core.display.HTML object>"
      ]
     },
     "metadata": {},
     "output_type": "display_data"
    },
    {
     "data": {
      "text/html": [
       "Tracking run with wandb version 0.15.12"
      ],
      "text/plain": [
       "<IPython.core.display.HTML object>"
      ]
     },
     "metadata": {},
     "output_type": "display_data"
    },
    {
     "data": {
      "text/html": [
       "Run data is saved locally in <code>/Users/mitanshk/Desktop/assignment-3-Mitanshk01/wandb/run-20231026_092410-ux866ah6</code>"
      ],
      "text/plain": [
       "<IPython.core.display.HTML object>"
      ]
     },
     "metadata": {},
     "output_type": "display_data"
    },
    {
     "data": {
      "text/html": [
       "Syncing run <strong><a href='https://wandb.ai/mitanshkayathwal/SMAI_As3_Q5_1/runs/ux866ah6' target=\"_blank\">bumbling-bee-3</a></strong> to <a href='https://wandb.ai/mitanshkayathwal/SMAI_As3_Q5_1' target=\"_blank\">Weights & Biases</a> (<a href='https://wandb.me/run' target=\"_blank\">docs</a>)<br/>"
      ],
      "text/plain": [
       "<IPython.core.display.HTML object>"
      ]
     },
     "metadata": {},
     "output_type": "display_data"
    },
    {
     "data": {
      "text/html": [
       " View project at <a href='https://wandb.ai/mitanshkayathwal/SMAI_As3_Q5_1' target=\"_blank\">https://wandb.ai/mitanshkayathwal/SMAI_As3_Q5_1</a>"
      ],
      "text/plain": [
       "<IPython.core.display.HTML object>"
      ]
     },
     "metadata": {},
     "output_type": "display_data"
    },
    {
     "data": {
      "text/html": [
       " View run at <a href='https://wandb.ai/mitanshkayathwal/SMAI_As3_Q5_1/runs/ux866ah6' target=\"_blank\">https://wandb.ai/mitanshkayathwal/SMAI_As3_Q5_1/runs/ux866ah6</a>"
      ],
      "text/plain": [
       "<IPython.core.display.HTML object>"
      ]
     },
     "metadata": {},
     "output_type": "display_data"
    },
    {
     "data": {
      "text/html": [
       "Finishing last run (ID:ux866ah6) before initializing another..."
      ],
      "text/plain": [
       "<IPython.core.display.HTML object>"
      ]
     },
     "metadata": {},
     "output_type": "display_data"
    },
    {
     "data": {
      "text/html": [
       "Waiting for W&B process to finish... <strong style=\"color:green\">(success).</strong>"
      ],
      "text/plain": [
       "<IPython.core.display.HTML object>"
      ]
     },
     "metadata": {},
     "output_type": "display_data"
    },
    {
     "name": "stderr",
     "output_type": "stream",
     "text": [
      "wandb: WARNING Source type is set to 'repo' but some required information is missing from the environment. A job will not be created from this run. See https://docs.wandb.ai/guides/launch/create-job\n"
     ]
    },
    {
     "data": {
      "text/html": [
       "<style>\n",
       "    table.wandb td:nth-child(1) { padding: 0 10px; text-align: left ; width: auto;} td:nth-child(2) {text-align: left ; width: 100%}\n",
       "    .wandb-row { display: flex; flex-direction: row; flex-wrap: wrap; justify-content: flex-start; width: 100% }\n",
       "    .wandb-col { display: flex; flex-direction: column; flex-basis: 100%; flex: 1; padding: 10px; }\n",
       "    </style>\n",
       "<div class=\"wandb-row\"><div class=\"wandb-col\"><h3>Run history:</h3><br/><table class=\"wandb\"><tr><td>Train Loss</td><td>▁</td></tr><tr><td>Training Accuracy</td><td>▁</td></tr><tr><td>Validation Accuracy</td><td>▁</td></tr><tr><td>Validation Loss</td><td>▁</td></tr></table><br/></div><div class=\"wandb-col\"><h3>Run summary:</h3><br/><table class=\"wandb\"><tr><td>Train Loss</td><td>4.24778</td></tr><tr><td>Training Accuracy</td><td>0.02252</td></tr><tr><td>Validation Accuracy</td><td>0.01628</td></tr><tr><td>Validation Loss</td><td>4.20591</td></tr></table><br/></div></div>"
      ],
      "text/plain": [
       "<IPython.core.display.HTML object>"
      ]
     },
     "metadata": {},
     "output_type": "display_data"
    },
    {
     "data": {
      "text/html": [
       " View run <strong style=\"color:#cdcd00\">bumbling-bee-3</strong> at: <a href='https://wandb.ai/mitanshkayathwal/SMAI_As3_Q5_1/runs/ux866ah6' target=\"_blank\">https://wandb.ai/mitanshkayathwal/SMAI_As3_Q5_1/runs/ux866ah6</a><br/>Synced 4 W&B file(s), 0 media file(s), 0 artifact file(s) and 0 other file(s)"
      ],
      "text/plain": [
       "<IPython.core.display.HTML object>"
      ]
     },
     "metadata": {},
     "output_type": "display_data"
    },
    {
     "data": {
      "text/html": [
       "Find logs at: <code>./wandb/run-20231026_092410-ux866ah6/logs</code>"
      ],
      "text/plain": [
       "<IPython.core.display.HTML object>"
      ]
     },
     "metadata": {},
     "output_type": "display_data"
    },
    {
     "data": {
      "text/html": [
       "Successfully finished last run (ID:ux866ah6). Initializing new run:<br/>"
      ],
      "text/plain": [
       "<IPython.core.display.HTML object>"
      ]
     },
     "metadata": {},
     "output_type": "display_data"
    },
    {
     "data": {
      "text/html": [
       "Tracking run with wandb version 0.15.12"
      ],
      "text/plain": [
       "<IPython.core.display.HTML object>"
      ]
     },
     "metadata": {},
     "output_type": "display_data"
    },
    {
     "data": {
      "text/html": [
       "Run data is saved locally in <code>/Users/mitanshk/Desktop/assignment-3-Mitanshk01/wandb/run-20231026_092427-rvng2umm</code>"
      ],
      "text/plain": [
       "<IPython.core.display.HTML object>"
      ]
     },
     "metadata": {},
     "output_type": "display_data"
    },
    {
     "data": {
      "text/html": [
       "Syncing run <strong><a href='https://wandb.ai/mitanshkayathwal/SMAI_As3_Q5_1/runs/rvng2umm' target=\"_blank\">woven-water-4</a></strong> to <a href='https://wandb.ai/mitanshkayathwal/SMAI_As3_Q5_1' target=\"_blank\">Weights & Biases</a> (<a href='https://wandb.me/run' target=\"_blank\">docs</a>)<br/>"
      ],
      "text/plain": [
       "<IPython.core.display.HTML object>"
      ]
     },
     "metadata": {},
     "output_type": "display_data"
    },
    {
     "data": {
      "text/html": [
       " View project at <a href='https://wandb.ai/mitanshkayathwal/SMAI_As3_Q5_1' target=\"_blank\">https://wandb.ai/mitanshkayathwal/SMAI_As3_Q5_1</a>"
      ],
      "text/plain": [
       "<IPython.core.display.HTML object>"
      ]
     },
     "metadata": {},
     "output_type": "display_data"
    },
    {
     "data": {
      "text/html": [
       " View run at <a href='https://wandb.ai/mitanshkayathwal/SMAI_As3_Q5_1/runs/rvng2umm' target=\"_blank\">https://wandb.ai/mitanshkayathwal/SMAI_As3_Q5_1/runs/rvng2umm</a>"
      ],
      "text/plain": [
       "<IPython.core.display.HTML object>"
      ]
     },
     "metadata": {},
     "output_type": "display_data"
    },
    {
     "data": {
      "text/html": [
       "Finishing last run (ID:rvng2umm) before initializing another..."
      ],
      "text/plain": [
       "<IPython.core.display.HTML object>"
      ]
     },
     "metadata": {},
     "output_type": "display_data"
    },
    {
     "data": {
      "text/html": [
       "Waiting for W&B process to finish... <strong style=\"color:green\">(success).</strong>"
      ],
      "text/plain": [
       "<IPython.core.display.HTML object>"
      ]
     },
     "metadata": {},
     "output_type": "display_data"
    },
    {
     "name": "stderr",
     "output_type": "stream",
     "text": [
      "wandb: WARNING Source type is set to 'repo' but some required information is missing from the environment. A job will not be created from this run. See https://docs.wandb.ai/guides/launch/create-job\n"
     ]
    },
    {
     "data": {
      "text/html": [
       "<style>\n",
       "    table.wandb td:nth-child(1) { padding: 0 10px; text-align: left ; width: auto;} td:nth-child(2) {text-align: left ; width: 100%}\n",
       "    .wandb-row { display: flex; flex-direction: row; flex-wrap: wrap; justify-content: flex-start; width: 100% }\n",
       "    .wandb-col { display: flex; flex-direction: column; flex-basis: 100%; flex: 1; padding: 10px; }\n",
       "    </style>\n",
       "<div class=\"wandb-row\"><div class=\"wandb-col\"><h3>Run history:</h3><br/><table class=\"wandb\"><tr><td>Train Loss</td><td>▁</td></tr><tr><td>Training Accuracy</td><td>▁</td></tr><tr><td>Validation Accuracy</td><td>▁</td></tr><tr><td>Validation Loss</td><td>▁</td></tr></table><br/></div><div class=\"wandb-col\"><h3>Run summary:</h3><br/><table class=\"wandb\"><tr><td>Train Loss</td><td>4.25099</td></tr><tr><td>Training Accuracy</td><td>0.01194</td></tr><tr><td>Validation Accuracy</td><td>0.01848</td></tr><tr><td>Validation Loss</td><td>4.19889</td></tr></table><br/></div></div>"
      ],
      "text/plain": [
       "<IPython.core.display.HTML object>"
      ]
     },
     "metadata": {},
     "output_type": "display_data"
    },
    {
     "data": {
      "text/html": [
       " View run <strong style=\"color:#cdcd00\">woven-water-4</strong> at: <a href='https://wandb.ai/mitanshkayathwal/SMAI_As3_Q5_1/runs/rvng2umm' target=\"_blank\">https://wandb.ai/mitanshkayathwal/SMAI_As3_Q5_1/runs/rvng2umm</a><br/>Synced 4 W&B file(s), 0 media file(s), 0 artifact file(s) and 0 other file(s)"
      ],
      "text/plain": [
       "<IPython.core.display.HTML object>"
      ]
     },
     "metadata": {},
     "output_type": "display_data"
    },
    {
     "data": {
      "text/html": [
       "Find logs at: <code>./wandb/run-20231026_092427-rvng2umm/logs</code>"
      ],
      "text/plain": [
       "<IPython.core.display.HTML object>"
      ]
     },
     "metadata": {},
     "output_type": "display_data"
    },
    {
     "data": {
      "text/html": [
       "Successfully finished last run (ID:rvng2umm). Initializing new run:<br/>"
      ],
      "text/plain": [
       "<IPython.core.display.HTML object>"
      ]
     },
     "metadata": {},
     "output_type": "display_data"
    },
    {
     "data": {
      "text/html": [
       "Tracking run with wandb version 0.15.12"
      ],
      "text/plain": [
       "<IPython.core.display.HTML object>"
      ]
     },
     "metadata": {},
     "output_type": "display_data"
    },
    {
     "data": {
      "text/html": [
       "Run data is saved locally in <code>/Users/mitanshk/Desktop/assignment-3-Mitanshk01/wandb/run-20231026_092445-w7v80z93</code>"
      ],
      "text/plain": [
       "<IPython.core.display.HTML object>"
      ]
     },
     "metadata": {},
     "output_type": "display_data"
    },
    {
     "data": {
      "text/html": [
       "Syncing run <strong><a href='https://wandb.ai/mitanshkayathwal/SMAI_As3_Q5_1/runs/w7v80z93' target=\"_blank\">wild-wind-5</a></strong> to <a href='https://wandb.ai/mitanshkayathwal/SMAI_As3_Q5_1' target=\"_blank\">Weights & Biases</a> (<a href='https://wandb.me/run' target=\"_blank\">docs</a>)<br/>"
      ],
      "text/plain": [
       "<IPython.core.display.HTML object>"
      ]
     },
     "metadata": {},
     "output_type": "display_data"
    },
    {
     "data": {
      "text/html": [
       " View project at <a href='https://wandb.ai/mitanshkayathwal/SMAI_As3_Q5_1' target=\"_blank\">https://wandb.ai/mitanshkayathwal/SMAI_As3_Q5_1</a>"
      ],
      "text/plain": [
       "<IPython.core.display.HTML object>"
      ]
     },
     "metadata": {},
     "output_type": "display_data"
    },
    {
     "data": {
      "text/html": [
       " View run at <a href='https://wandb.ai/mitanshkayathwal/SMAI_As3_Q5_1/runs/w7v80z93' target=\"_blank\">https://wandb.ai/mitanshkayathwal/SMAI_As3_Q5_1/runs/w7v80z93</a>"
      ],
      "text/plain": [
       "<IPython.core.display.HTML object>"
      ]
     },
     "metadata": {},
     "output_type": "display_data"
    }
   ],
   "source": [
    "hidden_layers = [[10], [128,64], [8,8], [10, 10], [128, 64, 32]]\n",
    "\n",
    "for layers in hidden_layers:\n",
    "    run = wandb.init(\n",
    "                        project=\"SMAI_As3_Q5_1\", entity=\"mitanshkayathwal\"\n",
    "                    )\n",
    "    input_size = 64**2\n",
    "    num_classes = 10\n",
    "    batch_size = 64\n",
    "    model = MLPDoubleMNIST(input_size, layers, num_classes)\n",
    "\n",
    "    optimizer = optim.Adam(model.parameters(), lr=0.001)\n",
    "\n",
    "    num_epochs = 10\n",
    "\n",
    "    for epoch in range(num_epochs):\n",
    "        train_loss = 0.0\n",
    "        train_accuracy = 0\n",
    "        total_train = 0\n",
    "\n",
    "        for i, data in enumerate(train_loader, 0):\n",
    "            inputs, labels = data\n",
    "            loss = model.train(inputs, labels, optimizer)\n",
    "            train_loss += loss\n",
    "            total_train = total_train + 1\n",
    "            train_accuracy += model.evaluate_accuracy(inputs, labels)\n",
    "    \n",
    "    val_accuracy = 0\n",
    "    val_loss = 0\n",
    "    total_val = 0\n",
    "    for i, data in enumerate(val_loader, 0):\n",
    "        inputs, labels = data\n",
    "        loss = model.train(inputs, labels, optimizer)\n",
    "        val_loss += loss\n",
    "        total_val = total_val + 1\n",
    "        val_accuracy += model.evaluate_accuracy(inputs, labels)\n",
    "\n",
    "    val_accuracy = (val_accuracy/total_val) * 100\n",
    "\n",
    "    train_loss /= len(train_loader)\n",
    "    val_loss /= len(val_loader)\n",
    "\n",
    "    train_accuracy /=total_train\n",
    "    val_accuracy /=total_val\n",
    "\n",
    "    wandb.log({         'Hidden Layers': layers,\n",
    "                        'Validation Accuracy': val_accuracy,\n",
    "                        'Validation Loss': val_loss,\n",
    "                        'Train Loss': train_loss,\n",
    "                        'Training Accuracy': train_accuracy,\n",
    "            })"
   ]
  },
  {
   "cell_type": "markdown",
   "metadata": {},
   "source": [
    "# Best Hyperparameters found using WandB:\n",
    "\n",
    "Hidden Sizes: [10, 10]\n",
    "\n",
    "Training Accuracy: 1.19%\n",
    "\n",
    "Validation Accuracy: 1.8%\n",
    "\n",
    "Training Loss: 0.03413\n",
    "\n",
    "Validation Loss: 4.054"
   ]
  },
  {
   "cell_type": "code",
   "execution_count": 95,
   "metadata": {},
   "outputs": [
    {
     "name": "stdout",
     "output_type": "stream",
     "text": [
      "Accuracy on Test Dataset is: 0.5700000000000001%\n"
     ]
    }
   ],
   "source": [
    "input_size = 64**2\n",
    "num_classes = 10\n",
    "batch_size = 64\n",
    "model = MLPDoubleMNIST(input_size, [10, 10], num_classes)\n",
    "\n",
    "optimizer = optim.Adam(model.parameters(), lr=0.001)\n",
    "\n",
    "num_epochs = 10\n",
    "\n",
    "for epoch in range(num_epochs):\n",
    "    for i, data in enumerate(train_loader, 0):\n",
    "        inputs, labels = data\n",
    "        model.train(inputs, labels, optimizer)\n",
    "\n",
    "accuracy = 100 * model.evaluate_accuracy(torch.from_numpy(X_test).float(), torch.from_numpy(y_test).float())\n",
    "print(\"Accuracy on Test Dataset is: \" + str(accuracy) + \"%\")"
   ]
  },
  {
   "cell_type": "code",
   "execution_count": 6,
   "metadata": {},
   "outputs": [],
   "source": [
    "class CNNModel(nn.Module):\n",
    "    def __init__(self, kernel_sz=3, dropout_rate=0.25):\n",
    "        super(CNNModel, self).__init__()  \n",
    "        self.conv1 = nn.Conv2d(1, 32, kernel_size=kernel_sz, padding=1)\n",
    "        self.pool = nn.MaxPool2d(2, 2)\n",
    "        self.conv2 = nn.Conv2d(32, 64, kernel_size=kernel_sz, padding=1)\n",
    "        self.dropout = nn.Dropout(dropout_rate)\n",
    "        self.fc1 = nn.Linear(64 * 16 * 16, 128)  # Updated the input size of fc1\n",
    "        self.fc2 = nn.Linear(128, 10) \n",
    "        self.activation = nn.Sigmoid()\n",
    "\n",
    "    def forward(self, x):\n",
    "        x = self.pool(nn.functional.relu(self.conv1(x)))\n",
    "        x = self.pool(nn.functional.relu(self.conv2(x)))\n",
    "        x = x.view(x.size(0), -1)\n",
    "        x = self.dropout(x)\n",
    "        x = nn.functional.relu(self.fc1(x))\n",
    "        x = self.fc2(x)\n",
    "        x = self.activation(x)\n",
    "        return x"
   ]
  },
  {
   "cell_type": "code",
   "execution_count": 60,
   "metadata": {},
   "outputs": [
    {
     "name": "stdout",
     "output_type": "stream",
     "text": [
      "Epoch 1, Train Loss: 0.36573336184024813, Train Accuracy: 32.09%\n",
      "Epoch 1, Validation Loss: 0.36573336184024813, Validation Accuracy: 15.97%\n",
      "Epoch 2, Train Loss: 0.12150938247516752, Train Accuracy: 65.23%\n",
      "Epoch 2, Validation Loss: 0.12150938247516752, Validation Accuracy: 25.29%\n",
      "Epoch 3, Train Loss: 0.08455918423458934, Train Accuracy: 75.60%\n",
      "Epoch 3, Validation Loss: 0.08455918423458934, Validation Accuracy: 27.04%\n",
      "Epoch 4, Train Loss: 0.06675204199366272, Train Accuracy: 80.71%\n",
      "Epoch 4, Validation Loss: 0.06675204199366272, Validation Accuracy: 29.90%\n",
      "Epoch 5, Train Loss: 0.05776210439018905, Train Accuracy: 83.39%\n",
      "Epoch 5, Validation Loss: 0.05776210439018905, Validation Accuracy: 33.36%\n",
      "Epoch 6, Train Loss: 0.04999620796740055, Train Accuracy: 85.33%\n",
      "Epoch 6, Validation Loss: 0.04999620796740055, Validation Accuracy: 32.31%\n",
      "Epoch 7, Train Loss: 0.044873074002563955, Train Accuracy: 86.87%\n",
      "Epoch 7, Validation Loss: 0.044873074002563955, Validation Accuracy: 35.23%\n",
      "Epoch 8, Train Loss: 0.04057630185876042, Train Accuracy: 88.05%\n",
      "Epoch 8, Validation Loss: 0.04057630185876042, Validation Accuracy: 36.03%\n",
      "Epoch 9, Train Loss: 0.03736440762970596, Train Accuracy: 88.89%\n",
      "Epoch 9, Validation Loss: 0.03736440762970596, Validation Accuracy: 35.73%\n",
      "Epoch 10, Train Loss: 0.03422723330790177, Train Accuracy: 89.88%\n",
      "Epoch 10, Validation Loss: 0.03422723330790177, Validation Accuracy: 34.46%\n"
     ]
    }
   ],
   "source": [
    "model = CNNModel()\n",
    "\n",
    "criterion = nn.BCELoss()\n",
    "optimizer = optim.Adam(model.parameters(), lr=0.001)\n",
    "\n",
    "num_epochs = 10\n",
    "\n",
    "for epoch in range(num_epochs):\n",
    "    model.train()\n",
    "    train_loss = 0\n",
    "    correct_train = 0\n",
    "    correct_val = 0\n",
    "    total_val = 0\n",
    "    val_loss = 0\n",
    "    total_train = 0\n",
    "\n",
    "    for images, labels in train_loader:\n",
    "        optimizer.zero_grad()\n",
    "        outputs = model.forward(images)\n",
    "        binary_predictions = (outputs > 0.5).float()\n",
    "        loss = criterion(outputs, labels)\n",
    "        loss.backward()\n",
    "        optimizer.step()\n",
    "        total_train += labels.size(0)\n",
    "        train_loss += loss.item()\n",
    "        correct_train += (binary_predictions == labels).all(dim=1).sum().item()\n",
    "\n",
    "    for images, labels in val_loader:\n",
    "        outputs = model.forward(images)\n",
    "        binary_predictions = (outputs > 0.5).float()\n",
    "        loss = criterion(outputs, labels)\n",
    "        total_val += labels.size(0)\n",
    "        val_loss += loss.item()\n",
    "        correct_val += (binary_predictions == labels).all(dim=1).sum().item()\n",
    "    \n",
    "    train_accuracy = 100 * correct_train/total_train\n",
    "    val_accuracy = 100 * correct_val/total_val\n",
    "    print(f\"Epoch {epoch + 1}, Train Loss: {train_loss / len(train_loader)}, Train Accuracy: {train_accuracy:.2f}%\")\n",
    "    print(f\"Epoch {epoch + 1}, Validation Loss: {train_loss / len(train_loader)}, Validation Accuracy: {val_accuracy:.2f}%\")"
   ]
  },
  {
   "cell_type": "code",
   "execution_count": 22,
   "metadata": {},
   "outputs": [
    {
     "data": {
      "text/html": [
       "Finishing last run (ID:tg41y4zc) before initializing another..."
      ],
      "text/plain": [
       "<IPython.core.display.HTML object>"
      ]
     },
     "metadata": {},
     "output_type": "display_data"
    },
    {
     "data": {
      "text/html": [
       "Waiting for W&B process to finish... <strong style=\"color:green\">(success).</strong>"
      ],
      "text/plain": [
       "<IPython.core.display.HTML object>"
      ]
     },
     "metadata": {},
     "output_type": "display_data"
    },
    {
     "name": "stderr",
     "output_type": "stream",
     "text": [
      "wandb: WARNING Source type is set to 'repo' but some required information is missing from the environment. A job will not be created from this run. See https://docs.wandb.ai/guides/launch/create-job\n"
     ]
    },
    {
     "data": {
      "text/html": [
       " View run <strong style=\"color:#cdcd00\">summer-fog-5</strong> at: <a href='https://wandb.ai/mitanshkayathwal/SMAI_As3_Q5_2/runs/tg41y4zc' target=\"_blank\">https://wandb.ai/mitanshkayathwal/SMAI_As3_Q5_2/runs/tg41y4zc</a><br/>Synced 4 W&B file(s), 0 media file(s), 0 artifact file(s) and 0 other file(s)"
      ],
      "text/plain": [
       "<IPython.core.display.HTML object>"
      ]
     },
     "metadata": {},
     "output_type": "display_data"
    },
    {
     "data": {
      "text/html": [
       "Find logs at: <code>./wandb/run-20231026_105422-tg41y4zc/logs</code>"
      ],
      "text/plain": [
       "<IPython.core.display.HTML object>"
      ]
     },
     "metadata": {},
     "output_type": "display_data"
    },
    {
     "data": {
      "text/html": [
       "Successfully finished last run (ID:tg41y4zc). Initializing new run:<br/>"
      ],
      "text/plain": [
       "<IPython.core.display.HTML object>"
      ]
     },
     "metadata": {},
     "output_type": "display_data"
    },
    {
     "data": {
      "text/html": [
       "Tracking run with wandb version 0.15.12"
      ],
      "text/plain": [
       "<IPython.core.display.HTML object>"
      ]
     },
     "metadata": {},
     "output_type": "display_data"
    },
    {
     "data": {
      "text/html": [
       "Run data is saved locally in <code>/Users/mitanshk/Desktop/assignment-3-Mitanshk01/wandb/run-20231026_110200-74g5eyj3</code>"
      ],
      "text/plain": [
       "<IPython.core.display.HTML object>"
      ]
     },
     "metadata": {},
     "output_type": "display_data"
    },
    {
     "data": {
      "text/html": [
       "Syncing run <strong><a href='https://wandb.ai/mitanshkayathwal/SMAI_As3_Q5_2/runs/74g5eyj3' target=\"_blank\">crimson-donkey-6</a></strong> to <a href='https://wandb.ai/mitanshkayathwal/SMAI_As3_Q5_2' target=\"_blank\">Weights & Biases</a> (<a href='https://wandb.me/run' target=\"_blank\">docs</a>)<br/>"
      ],
      "text/plain": [
       "<IPython.core.display.HTML object>"
      ]
     },
     "metadata": {},
     "output_type": "display_data"
    },
    {
     "data": {
      "text/html": [
       " View project at <a href='https://wandb.ai/mitanshkayathwal/SMAI_As3_Q5_2' target=\"_blank\">https://wandb.ai/mitanshkayathwal/SMAI_As3_Q5_2</a>"
      ],
      "text/plain": [
       "<IPython.core.display.HTML object>"
      ]
     },
     "metadata": {},
     "output_type": "display_data"
    },
    {
     "data": {
      "text/html": [
       " View run at <a href='https://wandb.ai/mitanshkayathwal/SMAI_As3_Q5_2/runs/74g5eyj3' target=\"_blank\">https://wandb.ai/mitanshkayathwal/SMAI_As3_Q5_2/runs/74g5eyj3</a>"
      ],
      "text/plain": [
       "<IPython.core.display.HTML object>"
      ]
     },
     "metadata": {},
     "output_type": "display_data"
    },
    {
     "data": {
      "text/html": [
       "Finishing last run (ID:74g5eyj3) before initializing another..."
      ],
      "text/plain": [
       "<IPython.core.display.HTML object>"
      ]
     },
     "metadata": {},
     "output_type": "display_data"
    },
    {
     "data": {
      "text/html": [
       "Waiting for W&B process to finish... <strong style=\"color:green\">(success).</strong>"
      ],
      "text/plain": [
       "<IPython.core.display.HTML object>"
      ]
     },
     "metadata": {},
     "output_type": "display_data"
    },
    {
     "name": "stderr",
     "output_type": "stream",
     "text": [
      "wandb: WARNING Source type is set to 'repo' but some required information is missing from the environment. A job will not be created from this run. See https://docs.wandb.ai/guides/launch/create-job\n"
     ]
    },
    {
     "data": {
      "text/html": [
       "<style>\n",
       "    table.wandb td:nth-child(1) { padding: 0 10px; text-align: left ; width: auto;} td:nth-child(2) {text-align: left ; width: 100%}\n",
       "    .wandb-row { display: flex; flex-direction: row; flex-wrap: wrap; justify-content: flex-start; width: 100% }\n",
       "    .wandb-col { display: flex; flex-direction: column; flex-basis: 100%; flex: 1; padding: 10px; }\n",
       "    </style>\n",
       "<div class=\"wandb-row\"><div class=\"wandb-col\"><h3>Run history:</h3><br/><table class=\"wandb\"><tr><td>Dropout Rate</td><td>▁▁▁▁▁▁▁▁▁▁</td></tr><tr><td>Kernel Size</td><td>▁▁▁▁▁▁▁▁▁▁</td></tr><tr><td>Learning Rate</td><td>▁▁▁▁▁▁▁▁▁▁</td></tr><tr><td>Train Accuracy</td><td>▁▁▁▁▁▁▁▁▁▁</td></tr><tr><td>Train Loss</td><td>▁█████████</td></tr><tr><td>Validation Accuracy</td><td>▁▁▁▁▁▁▁▁▁▁</td></tr><tr><td>Validation Loss</td><td>▁▁▁▁▁▁▁▁▁▁</td></tr></table><br/></div><div class=\"wandb-col\"><h3>Run summary:</h3><br/><table class=\"wandb\"><tr><td>Dropout Rate</td><td>0</td></tr><tr><td>Kernel Size</td><td>3</td></tr><tr><td>Learning Rate</td><td>0.008</td></tr><tr><td>Train Accuracy</td><td>1.5625</td></tr><tr><td>Train Loss</td><td>0.39551</td></tr><tr><td>Validation Accuracy</td><td>0.0</td></tr><tr><td>Validation Loss</td><td>0.41016</td></tr></table><br/></div></div>"
      ],
      "text/plain": [
       "<IPython.core.display.HTML object>"
      ]
     },
     "metadata": {},
     "output_type": "display_data"
    },
    {
     "data": {
      "text/html": [
       " View run <strong style=\"color:#cdcd00\">crimson-donkey-6</strong> at: <a href='https://wandb.ai/mitanshkayathwal/SMAI_As3_Q5_2/runs/74g5eyj3' target=\"_blank\">https://wandb.ai/mitanshkayathwal/SMAI_As3_Q5_2/runs/74g5eyj3</a><br/>Synced 4 W&B file(s), 0 media file(s), 0 artifact file(s) and 0 other file(s)"
      ],
      "text/plain": [
       "<IPython.core.display.HTML object>"
      ]
     },
     "metadata": {},
     "output_type": "display_data"
    },
    {
     "data": {
      "text/html": [
       "Find logs at: <code>./wandb/run-20231026_110200-74g5eyj3/logs</code>"
      ],
      "text/plain": [
       "<IPython.core.display.HTML object>"
      ]
     },
     "metadata": {},
     "output_type": "display_data"
    },
    {
     "data": {
      "text/html": [
       "Successfully finished last run (ID:74g5eyj3). Initializing new run:<br/>"
      ],
      "text/plain": [
       "<IPython.core.display.HTML object>"
      ]
     },
     "metadata": {},
     "output_type": "display_data"
    },
    {
     "data": {
      "text/html": [
       "Tracking run with wandb version 0.15.12"
      ],
      "text/plain": [
       "<IPython.core.display.HTML object>"
      ]
     },
     "metadata": {},
     "output_type": "display_data"
    },
    {
     "data": {
      "text/html": [
       "Run data is saved locally in <code>/Users/mitanshk/Desktop/assignment-3-Mitanshk01/wandb/run-20231026_112441-v1wtximc</code>"
      ],
      "text/plain": [
       "<IPython.core.display.HTML object>"
      ]
     },
     "metadata": {},
     "output_type": "display_data"
    },
    {
     "data": {
      "text/html": [
       "Syncing run <strong><a href='https://wandb.ai/mitanshkayathwal/SMAI_As3_Q5_2/runs/v1wtximc' target=\"_blank\">fluent-waterfall-7</a></strong> to <a href='https://wandb.ai/mitanshkayathwal/SMAI_As3_Q5_2' target=\"_blank\">Weights & Biases</a> (<a href='https://wandb.me/run' target=\"_blank\">docs</a>)<br/>"
      ],
      "text/plain": [
       "<IPython.core.display.HTML object>"
      ]
     },
     "metadata": {},
     "output_type": "display_data"
    },
    {
     "data": {
      "text/html": [
       " View project at <a href='https://wandb.ai/mitanshkayathwal/SMAI_As3_Q5_2' target=\"_blank\">https://wandb.ai/mitanshkayathwal/SMAI_As3_Q5_2</a>"
      ],
      "text/plain": [
       "<IPython.core.display.HTML object>"
      ]
     },
     "metadata": {},
     "output_type": "display_data"
    },
    {
     "data": {
      "text/html": [
       " View run at <a href='https://wandb.ai/mitanshkayathwal/SMAI_As3_Q5_2/runs/v1wtximc' target=\"_blank\">https://wandb.ai/mitanshkayathwal/SMAI_As3_Q5_2/runs/v1wtximc</a>"
      ],
      "text/plain": [
       "<IPython.core.display.HTML object>"
      ]
     },
     "metadata": {},
     "output_type": "display_data"
    }
   ],
   "source": [
    "learning_rates = [0.001, 0.008]\n",
    "kernel_sizes = [3, 5]\n",
    "dropout_rates = [0, 0.25]\n",
    "\n",
    "for lr in learning_rates:\n",
    "    for kernel_sz in kernel_sizes:\n",
    "        for dropout_rate in dropout_rates:\n",
    "            run = wandb.init(\n",
    "                        project=\"SMAI_As3_Q5_2\", entity=\"mitanshkayathwal\"\n",
    "                    )\n",
    "            \n",
    "            model = CNNModel(kernel_sz, dropout_rate)\n",
    "\n",
    "            criterion = nn.BCELoss()\n",
    "            optimizer = optim.Adam(model.parameters(), lr)\n",
    "            num_epochs = 10\n",
    "            \n",
    "            for epoch in range(num_epochs):\n",
    "                model.train()\n",
    "                train_loss = 0\n",
    "                correct_train = 0\n",
    "                correct_val = 0\n",
    "                total_val = 0\n",
    "                val_loss = 0\n",
    "                total_train = 0\n",
    "\n",
    "                for images, labels in train_loader:\n",
    "                    optimizer.zero_grad()\n",
    "                    outputs = model.forward(images)\n",
    "                    binary_predictions = (outputs > 0.5).float()\n",
    "                    loss = criterion(outputs, labels)\n",
    "                    loss.backward()\n",
    "                    optimizer.step()\n",
    "                    total_train += labels.size(0)\n",
    "                    train_loss += loss.item()\n",
    "                    correct_train += (binary_predictions == labels).all(dim=1).sum().item()\n",
    "\n",
    "                for images, labels in val_loader:\n",
    "                    outputs = model.forward(images)\n",
    "                    binary_predictions = (outputs > 0.5).float()\n",
    "                    loss = criterion(outputs, labels)\n",
    "                    total_val += labels.size(0)\n",
    "                    val_loss += loss.item()\n",
    "                    correct_val += (binary_predictions == labels).all(dim=1).sum().item()\n",
    "                \n",
    "                train_accuracy = 100 * correct_train/total_train\n",
    "                val_accuracy = 100 * correct_val/total_val\n",
    "\n",
    "                val_loss /= total_val\n",
    "                train_loss /= total_train\n",
    "\n",
    "                wandb.log({\"Learning Rate\": lr,\n",
    "                           \"Kernel Size\": kernel_sz,\n",
    "                           \"Dropout Rate\": dropout_rate,\n",
    "                           \"Train Accuracy\": train_accuracy,\n",
    "                           \"Validation Accuracy\": val_accuracy,\n",
    "                           \"Train Loss\": train_loss,\n",
    "                           \"Validation Loss\": val_loss\n",
    "                           })"
   ]
  },
  {
   "cell_type": "markdown",
   "metadata": {},
   "source": [
    "# Best Hyperparameters found using WandB:\n",
    "\n",
    "Kernel Size: 3\n",
    "\n",
    "Learning Rate: 0.001\n",
    "\n",
    "Training Accuracy: 95.74%\n",
    "\n",
    "Validation Accuracy: 43.36%\n",
    "\n",
    "Training Loss: 0.0002035\n",
    "\n",
    "Validation Loss: 0.007916\n"
   ]
  },
  {
   "cell_type": "code",
   "execution_count": 11,
   "metadata": {},
   "outputs": [],
   "source": [
    "model = CNNModel(3, 0.25)\n",
    "\n",
    "criterion = nn.BCELoss()\n",
    "optimizer = optim.Adam(model.parameters(), lr=0.001)\n",
    "\n",
    "num_epochs = 10\n",
    "\n",
    "for epoch in range(num_epochs):\n",
    "    model.train()\n",
    "\n",
    "    for images, labels in train_loader:\n",
    "        optimizer.zero_grad()\n",
    "        outputs = model.forward(images)\n",
    "        loss = criterion(outputs, labels)\n",
    "        loss.backward()\n",
    "        optimizer.step()"
   ]
  },
  {
   "cell_type": "code",
   "execution_count": 12,
   "metadata": {},
   "outputs": [
    {
     "name": "stdout",
     "output_type": "stream",
     "text": [
      "39.355\n"
     ]
    }
   ],
   "source": [
    "output = model.forward(torch.from_numpy(X_test).float().unsqueeze(1))\n",
    "binary_predictions = (output > 0.5).float()\n",
    "accuracy = 100*(binary_predictions == torch.from_numpy(y_test).float()).all(dim=1).sum().item()/len(y_test)\n",
    "print(accuracy)"
   ]
  },
  {
   "cell_type": "code",
   "execution_count": 157,
   "metadata": {},
   "outputs": [
    {
     "name": "stdout",
     "output_type": "stream",
     "text": [
      "42.075\n"
     ]
    }
   ],
   "source": [
    "binary_predictions = (output > 0.5).float()\n",
    "accuracy = 100*(binary_predictions == torch.from_numpy(y_test).float()).all(dim=1).sum().item()/len(y_test)\n",
    "print(accuracy)"
   ]
  },
  {
   "cell_type": "code",
   "execution_count": 3,
   "metadata": {},
   "outputs": [],
   "source": [
    "data = np.load(\"permuted_mnist.npz\")\n",
    "permX_train = data[\"train_images\"]\n",
    "permy_train = data[\"train_labels\"]\n",
    "permX_test = data[\"test_images\"]\n",
    "permy_test = data[\"test_labels\"]\n",
    "permX_train, permX_val, permy_train, permy_val = train_test_split(permX_train, permy_train, random_state=42,test_size=0.2)"
   ]
  },
  {
   "cell_type": "code",
   "execution_count": 4,
   "metadata": {},
   "outputs": [],
   "source": [
    "# Write MLP Code using inbuilt functions\n",
    "\n",
    "class MLPPermutedMNIST(nn.Module):\n",
    "    def __init__(self, input_size, hidden_sizes, num_classes, activation_type='sigmoid'):\n",
    "        super(MLPPermutedMNIST, self).__init__()\n",
    "        self.layers = nn.ModuleList()\n",
    "        self.activation_type = activation_type\n",
    "        self.layers.append(nn.Linear(input_size, hidden_sizes[0]))\n",
    "        self.layers.append(self.activation(activation_type))\n",
    "        \n",
    "        for i in range(1, len(hidden_sizes)):\n",
    "            self.layers.append(nn.Linear(hidden_sizes[i-1], hidden_sizes[i]))\n",
    "            self.layers.append(self.activation(activation_type))\n",
    "    \n",
    "        self.layers.append(nn.Linear(hidden_sizes[-1], num_classes))\n",
    "        self.model = nn.Sequential(*self.layers)\n",
    "\n",
    "    def forward(self, x):\n",
    "        x = x.view(x.size(0), -1)\n",
    "        return self.model(x)\n",
    "\n",
    "    def activation(self, activation):\n",
    "        if activation == 'relu':\n",
    "            return nn.ReLU()\n",
    "        elif activation == 'tanh':\n",
    "            return nn.Tanh()\n",
    "        elif activation == 'sigmoid':\n",
    "            return nn.Sigmoid()\n",
    "\n",
    "    def train(self, X, y, optimizer):\n",
    "        outputs = self.forward(X)\n",
    "        loss = nn.CrossEntropyLoss()(outputs, y)\n",
    "        optimizer.zero_grad()\n",
    "        loss.backward()\n",
    "        optimizer.step()\n",
    "        \n",
    "        return loss.item()\n",
    "\n",
    "    def predict(self, X):\n",
    "        outputs = self.forward(X)\n",
    "        outputs = outputs.detach().numpy()\n",
    "        outputs = np.argmax(outputs,axis=1)\n",
    "        return outputs\n",
    "    \n",
    "    def evaluate_accuracy(self, X, y):\n",
    "        predicted = self.predict(X)\n",
    "        correct = (predicted == y).sum()\n",
    "        accuracy = correct.item() / len(y)\n",
    "        return accuracy"
   ]
  },
  {
   "cell_type": "code",
   "execution_count": 5,
   "metadata": {},
   "outputs": [
    {
     "name": "stdout",
     "output_type": "stream",
     "text": [
      "Epoch 1, Train Loss: 0.8968610704739889, Train Accuracy: 74.96%\n",
      "Epoch 1, Validation Loss: 0.4840844971068362, Validation Accuracy: 86.77%\n",
      "Epoch 2, Train Loss: 0.39967430410782495, Train Accuracy: 88.77%\n",
      "Epoch 2, Validation Loss: 0.34695711002704943, Validation Accuracy: 90.55%\n",
      "Epoch 3, Train Loss: 0.3443723158836365, Train Accuracy: 90.14%\n",
      "Epoch 3, Validation Loss: 0.3410698729468153, Validation Accuracy: 89.83%\n",
      "Epoch 4, Train Loss: 0.3272150169114272, Train Accuracy: 90.58%\n",
      "Epoch 4, Validation Loss: 0.30884806411538984, Validation Accuracy: 91.02%\n",
      "Epoch 5, Train Loss: 0.3080934458176295, Train Accuracy: 91.01%\n",
      "Epoch 5, Validation Loss: 0.268357076662335, Validation Accuracy: 92.27%\n",
      "Epoch 6, Train Loss: 0.28879182343681653, Train Accuracy: 91.40%\n",
      "Epoch 6, Validation Loss: 0.2598650990093642, Validation Accuracy: 92.54%\n",
      "Epoch 7, Train Loss: 0.2752088372906049, Train Accuracy: 92.05%\n",
      "Epoch 7, Validation Loss: 0.25193137102859453, Validation Accuracy: 92.47%\n",
      "Epoch 8, Train Loss: 0.24991978252927463, Train Accuracy: 92.73%\n",
      "Epoch 8, Validation Loss: 0.24173921697396547, Validation Accuracy: 92.99%\n",
      "Epoch 9, Train Loss: 0.24739051187038422, Train Accuracy: 92.72%\n",
      "Epoch 9, Validation Loss: 0.23112310488965918, Validation Accuracy: 93.17%\n",
      "Epoch 10, Train Loss: 0.2393254924962918, Train Accuracy: 92.98%\n",
      "Epoch 10, Validation Loss: 0.2419701728256459, Validation Accuracy: 92.95%\n",
      "Epoch 11, Train Loss: 0.23898996618390084, Train Accuracy: 93.09%\n",
      "Epoch 11, Validation Loss: 0.2105329361486625, Validation Accuracy: 93.69%\n",
      "Epoch 12, Train Loss: 0.21834281427164873, Train Accuracy: 93.59%\n",
      "Epoch 12, Validation Loss: 0.2038031987291067, Validation Accuracy: 94.11%\n",
      "Epoch 13, Train Loss: 0.2160326723655065, Train Accuracy: 93.70%\n",
      "Epoch 13, Validation Loss: 0.20944844128841417, Validation Accuracy: 93.96%\n",
      "Epoch 14, Train Loss: 0.21186154854794342, Train Accuracy: 93.81%\n",
      "Epoch 14, Validation Loss: 0.19887608087601813, Validation Accuracy: 93.98%\n",
      "Epoch 15, Train Loss: 0.19779224109152954, Train Accuracy: 94.14%\n",
      "Epoch 15, Validation Loss: 0.18272463523564822, Validation Accuracy: 94.78%\n",
      "Epoch 16, Train Loss: 0.19291562170286974, Train Accuracy: 94.35%\n",
      "Epoch 16, Validation Loss: 0.19399157883797555, Validation Accuracy: 94.27%\n",
      "Epoch 17, Train Loss: 0.1947784291530649, Train Accuracy: 94.37%\n",
      "Epoch 17, Validation Loss: 0.18466873857331403, Validation Accuracy: 94.54%\n",
      "Epoch 18, Train Loss: 0.1816046932140986, Train Accuracy: 94.86%\n",
      "Epoch 18, Validation Loss: 0.17065422964143626, Validation Accuracy: 95.00%\n",
      "Epoch 19, Train Loss: 0.18397513054311276, Train Accuracy: 94.56%\n",
      "Epoch 19, Validation Loss: 0.1794882600413675, Validation Accuracy: 94.61%\n",
      "Epoch 20, Train Loss: 0.17750997171799343, Train Accuracy: 94.80%\n",
      "Epoch 20, Validation Loss: 0.16707729740424992, Validation Accuracy: 94.97%\n",
      "Epoch 21, Train Loss: 0.16797849503159523, Train Accuracy: 95.10%\n",
      "Epoch 21, Validation Loss: 0.16570141703445226, Validation Accuracy: 95.21%\n",
      "Epoch 22, Train Loss: 0.17513218764712413, Train Accuracy: 94.97%\n",
      "Epoch 22, Validation Loss: 0.16222064052411217, Validation Accuracy: 95.36%\n",
      "Epoch 23, Train Loss: 0.17101714826375247, Train Accuracy: 95.01%\n",
      "Epoch 23, Validation Loss: 0.15163146592478485, Validation Accuracy: 95.61%\n",
      "Epoch 24, Train Loss: 0.15605339150379102, Train Accuracy: 95.40%\n",
      "Epoch 24, Validation Loss: 0.15990114818386575, Validation Accuracy: 95.17%\n",
      "Epoch 25, Train Loss: 0.16202406991273166, Train Accuracy: 95.29%\n",
      "Epoch 25, Validation Loss: 0.15156138985556492, Validation Accuracy: 95.52%\n"
     ]
    }
   ],
   "source": [
    "perm_train_dataset = TensorDataset(torch.from_numpy(permX_train).float().unsqueeze(1), torch.from_numpy(permy_train).long())\n",
    "perm_train_loader = torch.utils.data.DataLoader(perm_train_dataset, batch_size=64, shuffle=True)\n",
    "\n",
    "perm_val_dataset = TensorDataset(torch.from_numpy(permX_val).float().unsqueeze(1), torch.from_numpy(permy_val).long())\n",
    "perm_val_loader = torch.utils.data.DataLoader(perm_val_dataset, batch_size=64, shuffle=True)\n",
    "\n",
    "perm_test_dataset = TensorDataset(torch.from_numpy(permX_test).float().unsqueeze(1), torch.from_numpy(permy_test).long())\n",
    "perm_test_loader = torch.utils.data.DataLoader(perm_test_dataset, batch_size=64, shuffle=True)\n",
    "\n",
    "input_size = 28**2\n",
    "hidden_sizes = [128, 128, 128] \n",
    "num_classes = 10\n",
    "batch_size = 64\n",
    "model = MLPPermutedMNIST(input_size, hidden_sizes, num_classes)\n",
    "\n",
    "optimizer = optim.Adam(model.parameters(), lr=0.001)\n",
    "\n",
    "num_epochs = 25\n",
    "\n",
    "for epoch in range(num_epochs):\n",
    "    train_loss = 0.0\n",
    "    train_accuracy = 0\n",
    "    val_accuracy = 0\n",
    "    val_loss = 0\n",
    "    for i, data in enumerate(perm_train_loader, 0):\n",
    "        inputs, labels = data\n",
    "        loss = model.train(inputs, labels, optimizer)\n",
    "        train_loss += loss\n",
    "        train_accuracy += model.evaluate_accuracy(inputs, labels.numpy())\n",
    "    \n",
    "    for i, data in enumerate(perm_val_loader, 0):\n",
    "        inputs, labels = data\n",
    "        loss = model.train(inputs, labels, optimizer)\n",
    "        val_loss += loss\n",
    "        val_accuracy += model.evaluate_accuracy(inputs, labels.numpy())\n",
    "\n",
    "    print(f\"Epoch {epoch + 1}, Train Loss: {train_loss / len(perm_train_loader)}, Train Accuracy: {100*train_accuracy/len(perm_train_loader):.2f}%\")\n",
    "    print(f\"Epoch {epoch + 1}, Validation Loss: {val_loss / len(perm_val_loader)}, Validation Accuracy: {100*val_accuracy/len(perm_val_loader):.2f}%\")"
   ]
  },
  {
   "cell_type": "code",
   "execution_count": 10,
   "metadata": {},
   "outputs": [
    {
     "data": {
      "text/html": [
       "Finishing last run (ID:vxm35hwl) before initializing another..."
      ],
      "text/plain": [
       "<IPython.core.display.HTML object>"
      ]
     },
     "metadata": {},
     "output_type": "display_data"
    },
    {
     "data": {
      "text/html": [
       "Waiting for W&B process to finish... <strong style=\"color:green\">(success).</strong>"
      ],
      "text/plain": [
       "<IPython.core.display.HTML object>"
      ]
     },
     "metadata": {},
     "output_type": "display_data"
    },
    {
     "name": "stderr",
     "output_type": "stream",
     "text": [
      "wandb: WARNING Source type is set to 'repo' but some required information is missing from the environment. A job will not be created from this run. See https://docs.wandb.ai/guides/launch/create-job\n"
     ]
    },
    {
     "data": {
      "text/html": [
       " View run <strong style=\"color:#cdcd00\">tough-disco-2</strong> at: <a href='https://wandb.ai/mitanshkayathwal/SMAI_As3_Q5_3/runs/vxm35hwl' target=\"_blank\">https://wandb.ai/mitanshkayathwal/SMAI_As3_Q5_3/runs/vxm35hwl</a><br/>Synced 5 W&B file(s), 0 media file(s), 0 artifact file(s) and 0 other file(s)"
      ],
      "text/plain": [
       "<IPython.core.display.HTML object>"
      ]
     },
     "metadata": {},
     "output_type": "display_data"
    },
    {
     "data": {
      "text/html": [
       "Find logs at: <code>./wandb/run-20231026_095355-vxm35hwl/logs</code>"
      ],
      "text/plain": [
       "<IPython.core.display.HTML object>"
      ]
     },
     "metadata": {},
     "output_type": "display_data"
    },
    {
     "data": {
      "text/html": [
       "Successfully finished last run (ID:vxm35hwl). Initializing new run:<br/>"
      ],
      "text/plain": [
       "<IPython.core.display.HTML object>"
      ]
     },
     "metadata": {},
     "output_type": "display_data"
    },
    {
     "data": {
      "text/html": [
       "Tracking run with wandb version 0.15.12"
      ],
      "text/plain": [
       "<IPython.core.display.HTML object>"
      ]
     },
     "metadata": {},
     "output_type": "display_data"
    },
    {
     "data": {
      "text/html": [
       "Run data is saved locally in <code>/Users/mitanshk/Desktop/assignment-3-Mitanshk01/wandb/run-20231026_095455-7upvbg1f</code>"
      ],
      "text/plain": [
       "<IPython.core.display.HTML object>"
      ]
     },
     "metadata": {},
     "output_type": "display_data"
    },
    {
     "data": {
      "text/html": [
       "Syncing run <strong><a href='https://wandb.ai/mitanshkayathwal/SMAI_As3_Q5_3/runs/7upvbg1f' target=\"_blank\">desert-plasma-3</a></strong> to <a href='https://wandb.ai/mitanshkayathwal/SMAI_As3_Q5_3' target=\"_blank\">Weights & Biases</a> (<a href='https://wandb.me/run' target=\"_blank\">docs</a>)<br/>"
      ],
      "text/plain": [
       "<IPython.core.display.HTML object>"
      ]
     },
     "metadata": {},
     "output_type": "display_data"
    },
    {
     "data": {
      "text/html": [
       " View project at <a href='https://wandb.ai/mitanshkayathwal/SMAI_As3_Q5_3' target=\"_blank\">https://wandb.ai/mitanshkayathwal/SMAI_As3_Q5_3</a>"
      ],
      "text/plain": [
       "<IPython.core.display.HTML object>"
      ]
     },
     "metadata": {},
     "output_type": "display_data"
    },
    {
     "data": {
      "text/html": [
       " View run at <a href='https://wandb.ai/mitanshkayathwal/SMAI_As3_Q5_3/runs/7upvbg1f' target=\"_blank\">https://wandb.ai/mitanshkayathwal/SMAI_As3_Q5_3/runs/7upvbg1f</a>"
      ],
      "text/plain": [
       "<IPython.core.display.HTML object>"
      ]
     },
     "metadata": {},
     "output_type": "display_data"
    },
    {
     "data": {
      "text/html": [
       "Finishing last run (ID:7upvbg1f) before initializing another..."
      ],
      "text/plain": [
       "<IPython.core.display.HTML object>"
      ]
     },
     "metadata": {},
     "output_type": "display_data"
    },
    {
     "data": {
      "text/html": [
       "Waiting for W&B process to finish... <strong style=\"color:green\">(success).</strong>"
      ],
      "text/plain": [
       "<IPython.core.display.HTML object>"
      ]
     },
     "metadata": {},
     "output_type": "display_data"
    },
    {
     "name": "stderr",
     "output_type": "stream",
     "text": [
      "wandb: WARNING Source type is set to 'repo' but some required information is missing from the environment. A job will not be created from this run. See https://docs.wandb.ai/guides/launch/create-job\n"
     ]
    },
    {
     "data": {
      "text/html": [
       "<style>\n",
       "    table.wandb td:nth-child(1) { padding: 0 10px; text-align: left ; width: auto;} td:nth-child(2) {text-align: left ; width: 100%}\n",
       "    .wandb-row { display: flex; flex-direction: row; flex-wrap: wrap; justify-content: flex-start; width: 100% }\n",
       "    .wandb-col { display: flex; flex-direction: column; flex-basis: 100%; flex: 1; padding: 10px; }\n",
       "    </style>\n",
       "<div class=\"wandb-row\"><div class=\"wandb-col\"><h3>Run history:</h3><br/><table class=\"wandb\"><tr><td>Train Loss</td><td>▁</td></tr><tr><td>Training Accuracy</td><td>▁</td></tr><tr><td>Validation Accuracy</td><td>▁</td></tr><tr><td>Validation Loss</td><td>▁</td></tr></table><br/></div><div class=\"wandb-col\"><h3>Run summary:</h3><br/><table class=\"wandb\"><tr><td>Train Loss</td><td>0.45125</td></tr><tr><td>Training Accuracy</td><td>0.86665</td></tr><tr><td>Validation Accuracy</td><td>0.87134</td></tr><tr><td>Validation Loss</td><td>0.4549</td></tr></table><br/></div></div>"
      ],
      "text/plain": [
       "<IPython.core.display.HTML object>"
      ]
     },
     "metadata": {},
     "output_type": "display_data"
    },
    {
     "data": {
      "text/html": [
       " View run <strong style=\"color:#cdcd00\">desert-plasma-3</strong> at: <a href='https://wandb.ai/mitanshkayathwal/SMAI_As3_Q5_3/runs/7upvbg1f' target=\"_blank\">https://wandb.ai/mitanshkayathwal/SMAI_As3_Q5_3/runs/7upvbg1f</a><br/>Synced 4 W&B file(s), 0 media file(s), 0 artifact file(s) and 0 other file(s)"
      ],
      "text/plain": [
       "<IPython.core.display.HTML object>"
      ]
     },
     "metadata": {},
     "output_type": "display_data"
    },
    {
     "data": {
      "text/html": [
       "Find logs at: <code>./wandb/run-20231026_095455-7upvbg1f/logs</code>"
      ],
      "text/plain": [
       "<IPython.core.display.HTML object>"
      ]
     },
     "metadata": {},
     "output_type": "display_data"
    },
    {
     "data": {
      "text/html": [
       "Successfully finished last run (ID:7upvbg1f). Initializing new run:<br/>"
      ],
      "text/plain": [
       "<IPython.core.display.HTML object>"
      ]
     },
     "metadata": {},
     "output_type": "display_data"
    },
    {
     "data": {
      "text/html": [
       "Tracking run with wandb version 0.15.12"
      ],
      "text/plain": [
       "<IPython.core.display.HTML object>"
      ]
     },
     "metadata": {},
     "output_type": "display_data"
    },
    {
     "data": {
      "text/html": [
       "Run data is saved locally in <code>/Users/mitanshk/Desktop/assignment-3-Mitanshk01/wandb/run-20231026_095513-aqu2v538</code>"
      ],
      "text/plain": [
       "<IPython.core.display.HTML object>"
      ]
     },
     "metadata": {},
     "output_type": "display_data"
    },
    {
     "data": {
      "text/html": [
       "Syncing run <strong><a href='https://wandb.ai/mitanshkayathwal/SMAI_As3_Q5_3/runs/aqu2v538' target=\"_blank\">rural-totem-4</a></strong> to <a href='https://wandb.ai/mitanshkayathwal/SMAI_As3_Q5_3' target=\"_blank\">Weights & Biases</a> (<a href='https://wandb.me/run' target=\"_blank\">docs</a>)<br/>"
      ],
      "text/plain": [
       "<IPython.core.display.HTML object>"
      ]
     },
     "metadata": {},
     "output_type": "display_data"
    },
    {
     "data": {
      "text/html": [
       " View project at <a href='https://wandb.ai/mitanshkayathwal/SMAI_As3_Q5_3' target=\"_blank\">https://wandb.ai/mitanshkayathwal/SMAI_As3_Q5_3</a>"
      ],
      "text/plain": [
       "<IPython.core.display.HTML object>"
      ]
     },
     "metadata": {},
     "output_type": "display_data"
    },
    {
     "data": {
      "text/html": [
       " View run at <a href='https://wandb.ai/mitanshkayathwal/SMAI_As3_Q5_3/runs/aqu2v538' target=\"_blank\">https://wandb.ai/mitanshkayathwal/SMAI_As3_Q5_3/runs/aqu2v538</a>"
      ],
      "text/plain": [
       "<IPython.core.display.HTML object>"
      ]
     },
     "metadata": {},
     "output_type": "display_data"
    },
    {
     "data": {
      "text/html": [
       "Finishing last run (ID:aqu2v538) before initializing another..."
      ],
      "text/plain": [
       "<IPython.core.display.HTML object>"
      ]
     },
     "metadata": {},
     "output_type": "display_data"
    },
    {
     "data": {
      "text/html": [
       "Waiting for W&B process to finish... <strong style=\"color:green\">(success).</strong>"
      ],
      "text/plain": [
       "<IPython.core.display.HTML object>"
      ]
     },
     "metadata": {},
     "output_type": "display_data"
    },
    {
     "name": "stderr",
     "output_type": "stream",
     "text": [
      "wandb: WARNING Source type is set to 'repo' but some required information is missing from the environment. A job will not be created from this run. See https://docs.wandb.ai/guides/launch/create-job\n"
     ]
    },
    {
     "data": {
      "text/html": [
       "<style>\n",
       "    table.wandb td:nth-child(1) { padding: 0 10px; text-align: left ; width: auto;} td:nth-child(2) {text-align: left ; width: 100%}\n",
       "    .wandb-row { display: flex; flex-direction: row; flex-wrap: wrap; justify-content: flex-start; width: 100% }\n",
       "    .wandb-col { display: flex; flex-direction: column; flex-basis: 100%; flex: 1; padding: 10px; }\n",
       "    </style>\n",
       "<div class=\"wandb-row\"><div class=\"wandb-col\"><h3>Run history:</h3><br/><table class=\"wandb\"><tr><td>Train Loss</td><td>▁</td></tr><tr><td>Training Accuracy</td><td>▁</td></tr><tr><td>Validation Accuracy</td><td>▁</td></tr><tr><td>Validation Loss</td><td>▁</td></tr></table><br/></div><div class=\"wandb-col\"><h3>Run summary:</h3><br/><table class=\"wandb\"><tr><td>Train Loss</td><td>0.17558</td></tr><tr><td>Training Accuracy</td><td>0.94817</td></tr><tr><td>Validation Accuracy</td><td>0.94847</td></tr><tr><td>Validation Loss</td><td>0.17923</td></tr></table><br/></div></div>"
      ],
      "text/plain": [
       "<IPython.core.display.HTML object>"
      ]
     },
     "metadata": {},
     "output_type": "display_data"
    },
    {
     "data": {
      "text/html": [
       " View run <strong style=\"color:#cdcd00\">rural-totem-4</strong> at: <a href='https://wandb.ai/mitanshkayathwal/SMAI_As3_Q5_3/runs/aqu2v538' target=\"_blank\">https://wandb.ai/mitanshkayathwal/SMAI_As3_Q5_3/runs/aqu2v538</a><br/>Synced 4 W&B file(s), 0 media file(s), 0 artifact file(s) and 0 other file(s)"
      ],
      "text/plain": [
       "<IPython.core.display.HTML object>"
      ]
     },
     "metadata": {},
     "output_type": "display_data"
    },
    {
     "data": {
      "text/html": [
       "Find logs at: <code>./wandb/run-20231026_095513-aqu2v538/logs</code>"
      ],
      "text/plain": [
       "<IPython.core.display.HTML object>"
      ]
     },
     "metadata": {},
     "output_type": "display_data"
    },
    {
     "data": {
      "text/html": [
       "Successfully finished last run (ID:aqu2v538). Initializing new run:<br/>"
      ],
      "text/plain": [
       "<IPython.core.display.HTML object>"
      ]
     },
     "metadata": {},
     "output_type": "display_data"
    },
    {
     "data": {
      "text/html": [
       "Tracking run with wandb version 0.15.12"
      ],
      "text/plain": [
       "<IPython.core.display.HTML object>"
      ]
     },
     "metadata": {},
     "output_type": "display_data"
    },
    {
     "data": {
      "text/html": [
       "Run data is saved locally in <code>/Users/mitanshk/Desktop/assignment-3-Mitanshk01/wandb/run-20231026_095542-umqqetk1</code>"
      ],
      "text/plain": [
       "<IPython.core.display.HTML object>"
      ]
     },
     "metadata": {},
     "output_type": "display_data"
    },
    {
     "data": {
      "text/html": [
       "Syncing run <strong><a href='https://wandb.ai/mitanshkayathwal/SMAI_As3_Q5_3/runs/umqqetk1' target=\"_blank\">lilac-frog-5</a></strong> to <a href='https://wandb.ai/mitanshkayathwal/SMAI_As3_Q5_3' target=\"_blank\">Weights & Biases</a> (<a href='https://wandb.me/run' target=\"_blank\">docs</a>)<br/>"
      ],
      "text/plain": [
       "<IPython.core.display.HTML object>"
      ]
     },
     "metadata": {},
     "output_type": "display_data"
    },
    {
     "data": {
      "text/html": [
       " View project at <a href='https://wandb.ai/mitanshkayathwal/SMAI_As3_Q5_3' target=\"_blank\">https://wandb.ai/mitanshkayathwal/SMAI_As3_Q5_3</a>"
      ],
      "text/plain": [
       "<IPython.core.display.HTML object>"
      ]
     },
     "metadata": {},
     "output_type": "display_data"
    },
    {
     "data": {
      "text/html": [
       " View run at <a href='https://wandb.ai/mitanshkayathwal/SMAI_As3_Q5_3/runs/umqqetk1' target=\"_blank\">https://wandb.ai/mitanshkayathwal/SMAI_As3_Q5_3/runs/umqqetk1</a>"
      ],
      "text/plain": [
       "<IPython.core.display.HTML object>"
      ]
     },
     "metadata": {},
     "output_type": "display_data"
    },
    {
     "data": {
      "text/html": [
       "Finishing last run (ID:umqqetk1) before initializing another..."
      ],
      "text/plain": [
       "<IPython.core.display.HTML object>"
      ]
     },
     "metadata": {},
     "output_type": "display_data"
    },
    {
     "data": {
      "text/html": [
       "Waiting for W&B process to finish... <strong style=\"color:green\">(success).</strong>"
      ],
      "text/plain": [
       "<IPython.core.display.HTML object>"
      ]
     },
     "metadata": {},
     "output_type": "display_data"
    },
    {
     "name": "stderr",
     "output_type": "stream",
     "text": [
      "wandb: WARNING Source type is set to 'repo' but some required information is missing from the environment. A job will not be created from this run. See https://docs.wandb.ai/guides/launch/create-job\n"
     ]
    },
    {
     "data": {
      "text/html": [
       "<style>\n",
       "    table.wandb td:nth-child(1) { padding: 0 10px; text-align: left ; width: auto;} td:nth-child(2) {text-align: left ; width: 100%}\n",
       "    .wandb-row { display: flex; flex-direction: row; flex-wrap: wrap; justify-content: flex-start; width: 100% }\n",
       "    .wandb-col { display: flex; flex-direction: column; flex-basis: 100%; flex: 1; padding: 10px; }\n",
       "    </style>\n",
       "<div class=\"wandb-row\"><div class=\"wandb-col\"><h3>Run history:</h3><br/><table class=\"wandb\"><tr><td>Train Loss</td><td>▁</td></tr><tr><td>Training Accuracy</td><td>▁</td></tr><tr><td>Validation Accuracy</td><td>▁</td></tr><tr><td>Validation Loss</td><td>▁</td></tr></table><br/></div><div class=\"wandb-col\"><h3>Run summary:</h3><br/><table class=\"wandb\"><tr><td>Train Loss</td><td>0.64163</td></tr><tr><td>Training Accuracy</td><td>0.8194</td></tr><tr><td>Validation Accuracy</td><td>0.80627</td></tr><tr><td>Validation Loss</td><td>0.67417</td></tr></table><br/></div></div>"
      ],
      "text/plain": [
       "<IPython.core.display.HTML object>"
      ]
     },
     "metadata": {},
     "output_type": "display_data"
    },
    {
     "data": {
      "text/html": [
       " View run <strong style=\"color:#cdcd00\">lilac-frog-5</strong> at: <a href='https://wandb.ai/mitanshkayathwal/SMAI_As3_Q5_3/runs/umqqetk1' target=\"_blank\">https://wandb.ai/mitanshkayathwal/SMAI_As3_Q5_3/runs/umqqetk1</a><br/>Synced 4 W&B file(s), 0 media file(s), 0 artifact file(s) and 0 other file(s)"
      ],
      "text/plain": [
       "<IPython.core.display.HTML object>"
      ]
     },
     "metadata": {},
     "output_type": "display_data"
    },
    {
     "data": {
      "text/html": [
       "Find logs at: <code>./wandb/run-20231026_095542-umqqetk1/logs</code>"
      ],
      "text/plain": [
       "<IPython.core.display.HTML object>"
      ]
     },
     "metadata": {},
     "output_type": "display_data"
    },
    {
     "data": {
      "text/html": [
       "Successfully finished last run (ID:umqqetk1). Initializing new run:<br/>"
      ],
      "text/plain": [
       "<IPython.core.display.HTML object>"
      ]
     },
     "metadata": {},
     "output_type": "display_data"
    },
    {
     "data": {
      "text/html": [
       "Tracking run with wandb version 0.15.12"
      ],
      "text/plain": [
       "<IPython.core.display.HTML object>"
      ]
     },
     "metadata": {},
     "output_type": "display_data"
    },
    {
     "data": {
      "text/html": [
       "Run data is saved locally in <code>/Users/mitanshk/Desktop/assignment-3-Mitanshk01/wandb/run-20231026_095602-q7u76eir</code>"
      ],
      "text/plain": [
       "<IPython.core.display.HTML object>"
      ]
     },
     "metadata": {},
     "output_type": "display_data"
    },
    {
     "data": {
      "text/html": [
       "Syncing run <strong><a href='https://wandb.ai/mitanshkayathwal/SMAI_As3_Q5_3/runs/q7u76eir' target=\"_blank\">leafy-yogurt-6</a></strong> to <a href='https://wandb.ai/mitanshkayathwal/SMAI_As3_Q5_3' target=\"_blank\">Weights & Biases</a> (<a href='https://wandb.me/run' target=\"_blank\">docs</a>)<br/>"
      ],
      "text/plain": [
       "<IPython.core.display.HTML object>"
      ]
     },
     "metadata": {},
     "output_type": "display_data"
    },
    {
     "data": {
      "text/html": [
       " View project at <a href='https://wandb.ai/mitanshkayathwal/SMAI_As3_Q5_3' target=\"_blank\">https://wandb.ai/mitanshkayathwal/SMAI_As3_Q5_3</a>"
      ],
      "text/plain": [
       "<IPython.core.display.HTML object>"
      ]
     },
     "metadata": {},
     "output_type": "display_data"
    },
    {
     "data": {
      "text/html": [
       " View run at <a href='https://wandb.ai/mitanshkayathwal/SMAI_As3_Q5_3/runs/q7u76eir' target=\"_blank\">https://wandb.ai/mitanshkayathwal/SMAI_As3_Q5_3/runs/q7u76eir</a>"
      ],
      "text/plain": [
       "<IPython.core.display.HTML object>"
      ]
     },
     "metadata": {},
     "output_type": "display_data"
    },
    {
     "data": {
      "text/html": [
       "Finishing last run (ID:q7u76eir) before initializing another..."
      ],
      "text/plain": [
       "<IPython.core.display.HTML object>"
      ]
     },
     "metadata": {},
     "output_type": "display_data"
    },
    {
     "data": {
      "text/html": [
       "Waiting for W&B process to finish... <strong style=\"color:green\">(success).</strong>"
      ],
      "text/plain": [
       "<IPython.core.display.HTML object>"
      ]
     },
     "metadata": {},
     "output_type": "display_data"
    },
    {
     "name": "stderr",
     "output_type": "stream",
     "text": [
      "wandb: WARNING Source type is set to 'repo' but some required information is missing from the environment. A job will not be created from this run. See https://docs.wandb.ai/guides/launch/create-job\n"
     ]
    },
    {
     "data": {
      "text/html": [
       "<style>\n",
       "    table.wandb td:nth-child(1) { padding: 0 10px; text-align: left ; width: auto;} td:nth-child(2) {text-align: left ; width: 100%}\n",
       "    .wandb-row { display: flex; flex-direction: row; flex-wrap: wrap; justify-content: flex-start; width: 100% }\n",
       "    .wandb-col { display: flex; flex-direction: column; flex-basis: 100%; flex: 1; padding: 10px; }\n",
       "    </style>\n",
       "<div class=\"wandb-row\"><div class=\"wandb-col\"><h3>Run history:</h3><br/><table class=\"wandb\"><tr><td>Train Loss</td><td>▁</td></tr><tr><td>Training Accuracy</td><td>▁</td></tr><tr><td>Validation Accuracy</td><td>▁</td></tr><tr><td>Validation Loss</td><td>▁</td></tr></table><br/></div><div class=\"wandb-col\"><h3>Run summary:</h3><br/><table class=\"wandb\"><tr><td>Train Loss</td><td>0.43493</td></tr><tr><td>Training Accuracy</td><td>0.88306</td></tr><tr><td>Validation Accuracy</td><td>0.8814</td></tr><tr><td>Validation Loss</td><td>0.45052</td></tr></table><br/></div></div>"
      ],
      "text/plain": [
       "<IPython.core.display.HTML object>"
      ]
     },
     "metadata": {},
     "output_type": "display_data"
    },
    {
     "data": {
      "text/html": [
       " View run <strong style=\"color:#cdcd00\">leafy-yogurt-6</strong> at: <a href='https://wandb.ai/mitanshkayathwal/SMAI_As3_Q5_3/runs/q7u76eir' target=\"_blank\">https://wandb.ai/mitanshkayathwal/SMAI_As3_Q5_3/runs/q7u76eir</a><br/>Synced 4 W&B file(s), 0 media file(s), 0 artifact file(s) and 0 other file(s)"
      ],
      "text/plain": [
       "<IPython.core.display.HTML object>"
      ]
     },
     "metadata": {},
     "output_type": "display_data"
    },
    {
     "data": {
      "text/html": [
       "Find logs at: <code>./wandb/run-20231026_095602-q7u76eir/logs</code>"
      ],
      "text/plain": [
       "<IPython.core.display.HTML object>"
      ]
     },
     "metadata": {},
     "output_type": "display_data"
    },
    {
     "data": {
      "text/html": [
       "Successfully finished last run (ID:q7u76eir). Initializing new run:<br/>"
      ],
      "text/plain": [
       "<IPython.core.display.HTML object>"
      ]
     },
     "metadata": {},
     "output_type": "display_data"
    },
    {
     "data": {
      "text/html": [
       "Tracking run with wandb version 0.15.12"
      ],
      "text/plain": [
       "<IPython.core.display.HTML object>"
      ]
     },
     "metadata": {},
     "output_type": "display_data"
    },
    {
     "data": {
      "text/html": [
       "Run data is saved locally in <code>/Users/mitanshk/Desktop/assignment-3-Mitanshk01/wandb/run-20231026_095622-3w2rs831</code>"
      ],
      "text/plain": [
       "<IPython.core.display.HTML object>"
      ]
     },
     "metadata": {},
     "output_type": "display_data"
    },
    {
     "data": {
      "text/html": [
       "Syncing run <strong><a href='https://wandb.ai/mitanshkayathwal/SMAI_As3_Q5_3/runs/3w2rs831' target=\"_blank\">honest-voice-7</a></strong> to <a href='https://wandb.ai/mitanshkayathwal/SMAI_As3_Q5_3' target=\"_blank\">Weights & Biases</a> (<a href='https://wandb.me/run' target=\"_blank\">docs</a>)<br/>"
      ],
      "text/plain": [
       "<IPython.core.display.HTML object>"
      ]
     },
     "metadata": {},
     "output_type": "display_data"
    },
    {
     "data": {
      "text/html": [
       " View project at <a href='https://wandb.ai/mitanshkayathwal/SMAI_As3_Q5_3' target=\"_blank\">https://wandb.ai/mitanshkayathwal/SMAI_As3_Q5_3</a>"
      ],
      "text/plain": [
       "<IPython.core.display.HTML object>"
      ]
     },
     "metadata": {},
     "output_type": "display_data"
    },
    {
     "data": {
      "text/html": [
       " View run at <a href='https://wandb.ai/mitanshkayathwal/SMAI_As3_Q5_3/runs/3w2rs831' target=\"_blank\">https://wandb.ai/mitanshkayathwal/SMAI_As3_Q5_3/runs/3w2rs831</a>"
      ],
      "text/plain": [
       "<IPython.core.display.HTML object>"
      ]
     },
     "metadata": {},
     "output_type": "display_data"
    }
   ],
   "source": [
    "hidden_layers = [[10], [128,64], [8,8], [10, 10], [128, 64, 32]]\n",
    "\n",
    "best_accuracy = 0\n",
    "best_params = None\n",
    "\n",
    "for layers in hidden_layers:\n",
    "    run = wandb.init(\n",
    "                        project=\"SMAI_As3_Q5_3\", entity=\"mitanshkayathwal\"\n",
    "                    )\n",
    "    input_size = 28**2\n",
    "    num_classes = 10\n",
    "    batch_size = 64\n",
    "    model = MLPPermutedMNIST(input_size, layers, num_classes)\n",
    "\n",
    "    optimizer = optim.Adam(model.parameters(), lr=0.001)\n",
    "\n",
    "    num_epochs = 25\n",
    "\n",
    "    for epoch in range(num_epochs):\n",
    "        train_loss = 0.0\n",
    "        train_accuracy = 0\n",
    "        val_accuracy = 0\n",
    "        val_loss = 0\n",
    "        for i, data in enumerate(perm_train_loader, 0):\n",
    "            inputs, labels = data\n",
    "            loss = model.train(inputs, labels, optimizer)\n",
    "            train_loss += loss\n",
    "            train_accuracy += model.evaluate_accuracy(inputs, labels.numpy())\n",
    "        \n",
    "    for i, data in enumerate(perm_val_loader, 0):\n",
    "        inputs, labels = data\n",
    "        loss = model.train(inputs, labels, optimizer)\n",
    "        val_loss += loss\n",
    "        val_accuracy += model.evaluate_accuracy(inputs, labels.numpy())\n",
    "\n",
    "    val_accuracy = val_accuracy / len(perm_val_loader)\n",
    "    if(best_accuracy<val_accuracy):\n",
    "        best_accuracy=val_accuracy\n",
    "        best_params = layers\n",
    "\n",
    "    train_loss /= len(perm_train_loader)\n",
    "    val_loss /= len(perm_val_loader)\n",
    "\n",
    "    train_accuracy /= len(perm_train_loader)\n",
    "\n",
    "    wandb.log({         'Hidden Layers': layers,\n",
    "                        'Validation Accuracy': val_accuracy,\n",
    "                        'Validation Loss': val_loss,\n",
    "                        'Train Loss': train_loss,\n",
    "                        'Training Accuracy': train_accuracy,\n",
    "            })"
   ]
  },
  {
   "cell_type": "markdown",
   "metadata": {},
   "source": [
    "# Best Hyperparameters found using WandB:\n",
    "\n",
    "Hidden Sizes: [128, 64]\n",
    "\n",
    "Training Accuracy: 94.82%\n",
    "\n",
    "Validation Accuracy: 94.85%\n",
    "\n",
    "Training Loss: 0.1756\n",
    "\n",
    "Validation Loss: 0.1792"
   ]
  },
  {
   "cell_type": "code",
   "execution_count": 11,
   "metadata": {},
   "outputs": [
    {
     "name": "stdout",
     "output_type": "stream",
     "text": [
      "Test Acuracy on MLP for Permuted MNIST is: 94.29737261146497\n"
     ]
    }
   ],
   "source": [
    "test_accuracy = 0\n",
    "\n",
    "input_size = 28**2\n",
    "num_classes = 10\n",
    "batch_size = 64\n",
    "model = MLPPermutedMNIST(input_size, [128, 64], num_classes)\n",
    "\n",
    "optimizer = optim.Adam(model.parameters(), lr=0.001)\n",
    "\n",
    "num_epochs = 25\n",
    "\n",
    "for epoch in range(num_epochs):\n",
    "    for i, data in enumerate(perm_train_loader, 0):\n",
    "        inputs, labels = data\n",
    "        loss = model.train(inputs, labels, optimizer)\n",
    "\n",
    "for i, data in enumerate(perm_test_loader, 0):\n",
    "        inputs, labels = data\n",
    "        test_accuracy += model.evaluate_accuracy(inputs, labels.numpy())\n",
    "\n",
    "test_accuracy = test_accuracy / len(perm_test_loader)\n",
    "\n",
    "print(\"Test Acuracy on MLP for Permuted MNIST is: \" + str(test_accuracy*100))"
   ]
  },
  {
   "cell_type": "code",
   "execution_count": 6,
   "metadata": {},
   "outputs": [],
   "source": [
    "# Write CNN Code using inbuilt functions (Same as in Part-4)\n",
    "\n",
    "class CNNModelPermutedMNIST(nn.Module):\n",
    "    def __init__(self, kernel_sz=3, dropout_rate=0.25):\n",
    "        super(CNNModelPermutedMNIST, self).__init__()  \n",
    "        self.conv1 = nn.Conv2d(1, 32, kernel_size=kernel_sz, padding=(kernel_sz-1)//2)\n",
    "        self.conv2 = nn.Conv2d(32, 64, kernel_size=kernel_sz, padding=(kernel_sz-1)//2)\n",
    "        self.pool = nn.MaxPool2d(2, 2)\n",
    "        self.dropout = nn.Dropout(dropout_rate)\n",
    "        self.fc1 = nn.Linear(64 * 7 * 7, 128)\n",
    "        self.fc2 = nn.Linear(128, 10) \n",
    "\n",
    "    def forward(self, x):\n",
    "        x = self.pool(nn.functional.relu(self.conv1(x)))\n",
    "        x = self.pool(nn.functional.relu(self.conv2(x)))\n",
    "        x = x.view(-1, 64 * 7 * 7)\n",
    "        x = self.dropout(x)\n",
    "        x = nn.functional.relu(self.fc1(x))\n",
    "        x = self.fc2(x)\n",
    "        return x"
   ]
  },
  {
   "cell_type": "code",
   "execution_count": 9,
   "metadata": {},
   "outputs": [
    {
     "name": "stdout",
     "output_type": "stream",
     "text": [
      "Epoch 1, Train Loss: 0.6482178148031235, Train Accuracy: 83.31%\n",
      "Epoch 1, Validation Loss: 0.30686817506447117, Validation Accuracy: 90.43%\n",
      "Epoch 2, Train Loss: 0.2618828623890877, Train Accuracy: 91.69%\n",
      "Epoch 2, Validation Loss: 0.2445481448592816, Validation Accuracy: 92.67%\n",
      "Epoch 3, Train Loss: 0.19794271129121382, Train Accuracy: 93.72%\n",
      "Epoch 3, Validation Loss: 0.25570842790159776, Validation Accuracy: 92.67%\n",
      "Epoch 4, Train Loss: 0.1700604790871342, Train Accuracy: 94.64%\n",
      "Epoch 4, Validation Loss: 0.25350740180410286, Validation Accuracy: 92.64%\n",
      "Epoch 5, Train Loss: 0.14909495710084836, Train Accuracy: 95.30%\n",
      "Epoch 5, Validation Loss: 0.22783119528197704, Validation Accuracy: 93.70%\n",
      "Epoch 6, Train Loss: 0.12796348215763767, Train Accuracy: 95.87%\n",
      "Epoch 6, Validation Loss: 0.21057355996379826, Validation Accuracy: 93.83%\n",
      "Epoch 7, Train Loss: 0.11622141516705355, Train Accuracy: 96.23%\n",
      "Epoch 7, Validation Loss: 0.21707254981602284, Validation Accuracy: 94.23%\n",
      "Epoch 8, Train Loss: 0.1049032766331608, Train Accuracy: 96.62%\n",
      "Epoch 8, Validation Loss: 0.20220441467307032, Validation Accuracy: 94.61%\n",
      "Epoch 9, Train Loss: 0.09343041950184852, Train Accuracy: 97.00%\n",
      "Epoch 9, Validation Loss: 0.20628170913798696, Validation Accuracy: 94.47%\n",
      "Epoch 10, Train Loss: 0.08481485520272206, Train Accuracy: 97.25%\n",
      "Epoch 10, Validation Loss: 0.21811847827159503, Validation Accuracy: 94.48%\n"
     ]
    }
   ],
   "source": [
    "model = CNNModelPermutedMNIST()\n",
    "\n",
    "criterion = nn.CrossEntropyLoss()\n",
    "optimizer = optim.Adam(model.parameters(), lr=0.001)\n",
    "\n",
    "num_epochs = 10\n",
    "\n",
    "for epoch in range(num_epochs):\n",
    "    model.train()\n",
    "    train_loss = 0\n",
    "    correct_train = 0\n",
    "    total_train = 0\n",
    "    correct_val = 0\n",
    "    total_val = 0\n",
    "    val_loss = 0\n",
    "    \n",
    "    for images, labels in perm_train_loader:\n",
    "        optimizer.zero_grad()\n",
    "        outputs = model(images)\n",
    "        loss = criterion(outputs, labels)\n",
    "        loss.backward()\n",
    "        optimizer.step()\n",
    "\n",
    "        train_loss += loss.item()\n",
    "        _, predicted = outputs.max(1)\n",
    "        total_train += labels.size(0)\n",
    "        correct_train += (predicted==labels).sum().item()\n",
    "\n",
    "    for images, labels in perm_val_loader:\n",
    "        outputs = model(images)\n",
    "        loss = criterion(outputs, labels)\n",
    "        val_loss += loss.item()\n",
    "        total_val += labels.size(0)\n",
    "        _, predicted = outputs.max(1)\n",
    "        correct_val += (predicted==labels).sum().item()\n",
    "\n",
    "    print(f\"Epoch {epoch + 1}, Train Loss: {train_loss / len(perm_train_loader)}, Train Accuracy: {100*correct_train/total_train:.2f}%\")\n",
    "    print(f\"Epoch {epoch + 1}, Validation Loss: {val_loss / len(perm_val_loader)}, Validation Accuracy: {100*correct_val/total_val:.2f}%\")"
   ]
  },
  {
   "cell_type": "code",
   "execution_count": 7,
   "metadata": {},
   "outputs": [
    {
     "name": "stderr",
     "output_type": "stream",
     "text": [
      "\u001b[34m\u001b[1mwandb\u001b[0m: Currently logged in as: \u001b[33mmitanshkayathwal\u001b[0m. Use \u001b[1m`wandb login --relogin`\u001b[0m to force relogin\n"
     ]
    },
    {
     "data": {
      "text/html": [
       "Tracking run with wandb version 0.15.12"
      ],
      "text/plain": [
       "<IPython.core.display.HTML object>"
      ]
     },
     "metadata": {},
     "output_type": "display_data"
    },
    {
     "data": {
      "text/html": [
       "Run data is saved locally in <code>/Users/mitanshk/Desktop/assignment-3-Mitanshk01/wandb/run-20231026_141426-8okcqfll</code>"
      ],
      "text/plain": [
       "<IPython.core.display.HTML object>"
      ]
     },
     "metadata": {},
     "output_type": "display_data"
    },
    {
     "data": {
      "text/html": [
       "Syncing run <strong><a href='https://wandb.ai/mitanshkayathwal/SMAI_As3_Q5_4/runs/8okcqfll' target=\"_blank\">rose-frost-9</a></strong> to <a href='https://wandb.ai/mitanshkayathwal/SMAI_As3_Q5_4' target=\"_blank\">Weights & Biases</a> (<a href='https://wandb.me/run' target=\"_blank\">docs</a>)<br/>"
      ],
      "text/plain": [
       "<IPython.core.display.HTML object>"
      ]
     },
     "metadata": {},
     "output_type": "display_data"
    },
    {
     "data": {
      "text/html": [
       " View project at <a href='https://wandb.ai/mitanshkayathwal/SMAI_As3_Q5_4' target=\"_blank\">https://wandb.ai/mitanshkayathwal/SMAI_As3_Q5_4</a>"
      ],
      "text/plain": [
       "<IPython.core.display.HTML object>"
      ]
     },
     "metadata": {},
     "output_type": "display_data"
    },
    {
     "data": {
      "text/html": [
       " View run at <a href='https://wandb.ai/mitanshkayathwal/SMAI_As3_Q5_4/runs/8okcqfll' target=\"_blank\">https://wandb.ai/mitanshkayathwal/SMAI_As3_Q5_4/runs/8okcqfll</a>"
      ],
      "text/plain": [
       "<IPython.core.display.HTML object>"
      ]
     },
     "metadata": {},
     "output_type": "display_data"
    },
    {
     "data": {
      "text/html": [
       "Finishing last run (ID:8okcqfll) before initializing another..."
      ],
      "text/plain": [
       "<IPython.core.display.HTML object>"
      ]
     },
     "metadata": {},
     "output_type": "display_data"
    },
    {
     "data": {
      "text/html": [
       "Waiting for W&B process to finish... <strong style=\"color:green\">(success).</strong>"
      ],
      "text/plain": [
       "<IPython.core.display.HTML object>"
      ]
     },
     "metadata": {},
     "output_type": "display_data"
    },
    {
     "name": "stderr",
     "output_type": "stream",
     "text": [
      "wandb: WARNING Source type is set to 'repo' but some required information is missing from the environment. A job will not be created from this run. See https://docs.wandb.ai/guides/launch/create-job\n"
     ]
    },
    {
     "data": {
      "text/html": [
       "<style>\n",
       "    table.wandb td:nth-child(1) { padding: 0 10px; text-align: left ; width: auto;} td:nth-child(2) {text-align: left ; width: 100%}\n",
       "    .wandb-row { display: flex; flex-direction: row; flex-wrap: wrap; justify-content: flex-start; width: 100% }\n",
       "    .wandb-col { display: flex; flex-direction: column; flex-basis: 100%; flex: 1; padding: 10px; }\n",
       "    </style>\n",
       "<div class=\"wandb-row\"><div class=\"wandb-col\"><h3>Run history:</h3><br/><table class=\"wandb\"><tr><td>Dropout Rate</td><td>▁</td></tr><tr><td>Kernel Size</td><td>▁</td></tr><tr><td>Learning Rate</td><td>▁</td></tr><tr><td>Train Accuracy</td><td>▁</td></tr><tr><td>Train Loss</td><td>▁</td></tr><tr><td>Validation Accuracy</td><td>▁</td></tr><tr><td>Validation Loss</td><td>▁</td></tr></table><br/></div><div class=\"wandb-col\"><h3>Run summary:</h3><br/><table class=\"wandb\"><tr><td>Dropout Rate</td><td>0</td></tr><tr><td>Kernel Size</td><td>3</td></tr><tr><td>Learning Rate</td><td>0.001</td></tr><tr><td>Train Accuracy</td><td>98.31458</td></tr><tr><td>Train Loss</td><td>0.05098</td></tr><tr><td>Validation Accuracy</td><td>94.39167</td></tr><tr><td>Validation Loss</td><td>0.26644</td></tr></table><br/></div></div>"
      ],
      "text/plain": [
       "<IPython.core.display.HTML object>"
      ]
     },
     "metadata": {},
     "output_type": "display_data"
    },
    {
     "data": {
      "text/html": [
       " View run <strong style=\"color:#cdcd00\">rose-frost-9</strong> at: <a href='https://wandb.ai/mitanshkayathwal/SMAI_As3_Q5_4/runs/8okcqfll' target=\"_blank\">https://wandb.ai/mitanshkayathwal/SMAI_As3_Q5_4/runs/8okcqfll</a><br/>Synced 4 W&B file(s), 0 media file(s), 0 artifact file(s) and 0 other file(s)"
      ],
      "text/plain": [
       "<IPython.core.display.HTML object>"
      ]
     },
     "metadata": {},
     "output_type": "display_data"
    },
    {
     "data": {
      "text/html": [
       "Find logs at: <code>./wandb/run-20231026_141426-8okcqfll/logs</code>"
      ],
      "text/plain": [
       "<IPython.core.display.HTML object>"
      ]
     },
     "metadata": {},
     "output_type": "display_data"
    },
    {
     "data": {
      "text/html": [
       "Successfully finished last run (ID:8okcqfll). Initializing new run:<br/>"
      ],
      "text/plain": [
       "<IPython.core.display.HTML object>"
      ]
     },
     "metadata": {},
     "output_type": "display_data"
    },
    {
     "data": {
      "text/html": [
       "Tracking run with wandb version 0.15.12"
      ],
      "text/plain": [
       "<IPython.core.display.HTML object>"
      ]
     },
     "metadata": {},
     "output_type": "display_data"
    },
    {
     "data": {
      "text/html": [
       "Run data is saved locally in <code>/Users/mitanshk/Desktop/assignment-3-Mitanshk01/wandb/run-20231026_141800-upwmfd7s</code>"
      ],
      "text/plain": [
       "<IPython.core.display.HTML object>"
      ]
     },
     "metadata": {},
     "output_type": "display_data"
    },
    {
     "data": {
      "text/html": [
       "Syncing run <strong><a href='https://wandb.ai/mitanshkayathwal/SMAI_As3_Q5_4/runs/upwmfd7s' target=\"_blank\">dauntless-forest-10</a></strong> to <a href='https://wandb.ai/mitanshkayathwal/SMAI_As3_Q5_4' target=\"_blank\">Weights & Biases</a> (<a href='https://wandb.me/run' target=\"_blank\">docs</a>)<br/>"
      ],
      "text/plain": [
       "<IPython.core.display.HTML object>"
      ]
     },
     "metadata": {},
     "output_type": "display_data"
    },
    {
     "data": {
      "text/html": [
       " View project at <a href='https://wandb.ai/mitanshkayathwal/SMAI_As3_Q5_4' target=\"_blank\">https://wandb.ai/mitanshkayathwal/SMAI_As3_Q5_4</a>"
      ],
      "text/plain": [
       "<IPython.core.display.HTML object>"
      ]
     },
     "metadata": {},
     "output_type": "display_data"
    },
    {
     "data": {
      "text/html": [
       " View run at <a href='https://wandb.ai/mitanshkayathwal/SMAI_As3_Q5_4/runs/upwmfd7s' target=\"_blank\">https://wandb.ai/mitanshkayathwal/SMAI_As3_Q5_4/runs/upwmfd7s</a>"
      ],
      "text/plain": [
       "<IPython.core.display.HTML object>"
      ]
     },
     "metadata": {},
     "output_type": "display_data"
    },
    {
     "data": {
      "text/html": [
       "Finishing last run (ID:upwmfd7s) before initializing another..."
      ],
      "text/plain": [
       "<IPython.core.display.HTML object>"
      ]
     },
     "metadata": {},
     "output_type": "display_data"
    },
    {
     "data": {
      "text/html": [
       "Waiting for W&B process to finish... <strong style=\"color:green\">(success).</strong>"
      ],
      "text/plain": [
       "<IPython.core.display.HTML object>"
      ]
     },
     "metadata": {},
     "output_type": "display_data"
    },
    {
     "name": "stderr",
     "output_type": "stream",
     "text": [
      "wandb: WARNING Source type is set to 'repo' but some required information is missing from the environment. A job will not be created from this run. See https://docs.wandb.ai/guides/launch/create-job\n"
     ]
    },
    {
     "data": {
      "text/html": [
       "<style>\n",
       "    table.wandb td:nth-child(1) { padding: 0 10px; text-align: left ; width: auto;} td:nth-child(2) {text-align: left ; width: 100%}\n",
       "    .wandb-row { display: flex; flex-direction: row; flex-wrap: wrap; justify-content: flex-start; width: 100% }\n",
       "    .wandb-col { display: flex; flex-direction: column; flex-basis: 100%; flex: 1; padding: 10px; }\n",
       "    </style>\n",
       "<div class=\"wandb-row\"><div class=\"wandb-col\"><h3>Run history:</h3><br/><table class=\"wandb\"><tr><td>Dropout Rate</td><td>▁</td></tr><tr><td>Kernel Size</td><td>▁</td></tr><tr><td>Learning Rate</td><td>▁</td></tr><tr><td>Train Accuracy</td><td>▁</td></tr><tr><td>Train Loss</td><td>▁</td></tr><tr><td>Validation Accuracy</td><td>▁</td></tr><tr><td>Validation Loss</td><td>▁</td></tr></table><br/></div><div class=\"wandb-col\"><h3>Run summary:</h3><br/><table class=\"wandb\"><tr><td>Dropout Rate</td><td>0.25</td></tr><tr><td>Kernel Size</td><td>3</td></tr><tr><td>Learning Rate</td><td>0.001</td></tr><tr><td>Train Accuracy</td><td>97.1375</td></tr><tr><td>Train Loss</td><td>0.088</td></tr><tr><td>Validation Accuracy</td><td>94.75833</td></tr><tr><td>Validation Loss</td><td>0.20807</td></tr></table><br/></div></div>"
      ],
      "text/plain": [
       "<IPython.core.display.HTML object>"
      ]
     },
     "metadata": {},
     "output_type": "display_data"
    },
    {
     "data": {
      "text/html": [
       " View run <strong style=\"color:#cdcd00\">dauntless-forest-10</strong> at: <a href='https://wandb.ai/mitanshkayathwal/SMAI_As3_Q5_4/runs/upwmfd7s' target=\"_blank\">https://wandb.ai/mitanshkayathwal/SMAI_As3_Q5_4/runs/upwmfd7s</a><br/>Synced 4 W&B file(s), 0 media file(s), 0 artifact file(s) and 0 other file(s)"
      ],
      "text/plain": [
       "<IPython.core.display.HTML object>"
      ]
     },
     "metadata": {},
     "output_type": "display_data"
    },
    {
     "data": {
      "text/html": [
       "Find logs at: <code>./wandb/run-20231026_141800-upwmfd7s/logs</code>"
      ],
      "text/plain": [
       "<IPython.core.display.HTML object>"
      ]
     },
     "metadata": {},
     "output_type": "display_data"
    },
    {
     "data": {
      "text/html": [
       "Successfully finished last run (ID:upwmfd7s). Initializing new run:<br/>"
      ],
      "text/plain": [
       "<IPython.core.display.HTML object>"
      ]
     },
     "metadata": {},
     "output_type": "display_data"
    },
    {
     "data": {
      "text/html": [
       "Tracking run with wandb version 0.15.12"
      ],
      "text/plain": [
       "<IPython.core.display.HTML object>"
      ]
     },
     "metadata": {},
     "output_type": "display_data"
    },
    {
     "data": {
      "text/html": [
       "Run data is saved locally in <code>/Users/mitanshk/Desktop/assignment-3-Mitanshk01/wandb/run-20231026_142148-zzhjv49r</code>"
      ],
      "text/plain": [
       "<IPython.core.display.HTML object>"
      ]
     },
     "metadata": {},
     "output_type": "display_data"
    },
    {
     "data": {
      "text/html": [
       "Syncing run <strong><a href='https://wandb.ai/mitanshkayathwal/SMAI_As3_Q5_4/runs/zzhjv49r' target=\"_blank\">clean-darkness-11</a></strong> to <a href='https://wandb.ai/mitanshkayathwal/SMAI_As3_Q5_4' target=\"_blank\">Weights & Biases</a> (<a href='https://wandb.me/run' target=\"_blank\">docs</a>)<br/>"
      ],
      "text/plain": [
       "<IPython.core.display.HTML object>"
      ]
     },
     "metadata": {},
     "output_type": "display_data"
    },
    {
     "data": {
      "text/html": [
       " View project at <a href='https://wandb.ai/mitanshkayathwal/SMAI_As3_Q5_4' target=\"_blank\">https://wandb.ai/mitanshkayathwal/SMAI_As3_Q5_4</a>"
      ],
      "text/plain": [
       "<IPython.core.display.HTML object>"
      ]
     },
     "metadata": {},
     "output_type": "display_data"
    },
    {
     "data": {
      "text/html": [
       " View run at <a href='https://wandb.ai/mitanshkayathwal/SMAI_As3_Q5_4/runs/zzhjv49r' target=\"_blank\">https://wandb.ai/mitanshkayathwal/SMAI_As3_Q5_4/runs/zzhjv49r</a>"
      ],
      "text/plain": [
       "<IPython.core.display.HTML object>"
      ]
     },
     "metadata": {},
     "output_type": "display_data"
    },
    {
     "data": {
      "text/html": [
       "Finishing last run (ID:zzhjv49r) before initializing another..."
      ],
      "text/plain": [
       "<IPython.core.display.HTML object>"
      ]
     },
     "metadata": {},
     "output_type": "display_data"
    },
    {
     "data": {
      "text/html": [
       "Waiting for W&B process to finish... <strong style=\"color:green\">(success).</strong>"
      ],
      "text/plain": [
       "<IPython.core.display.HTML object>"
      ]
     },
     "metadata": {},
     "output_type": "display_data"
    },
    {
     "name": "stderr",
     "output_type": "stream",
     "text": [
      "wandb: WARNING Source type is set to 'repo' but some required information is missing from the environment. A job will not be created from this run. See https://docs.wandb.ai/guides/launch/create-job\n"
     ]
    },
    {
     "data": {
      "text/html": [
       "<style>\n",
       "    table.wandb td:nth-child(1) { padding: 0 10px; text-align: left ; width: auto;} td:nth-child(2) {text-align: left ; width: 100%}\n",
       "    .wandb-row { display: flex; flex-direction: row; flex-wrap: wrap; justify-content: flex-start; width: 100% }\n",
       "    .wandb-col { display: flex; flex-direction: column; flex-basis: 100%; flex: 1; padding: 10px; }\n",
       "    </style>\n",
       "<div class=\"wandb-row\"><div class=\"wandb-col\"><h3>Run history:</h3><br/><table class=\"wandb\"><tr><td>Dropout Rate</td><td>▁</td></tr><tr><td>Kernel Size</td><td>▁</td></tr><tr><td>Learning Rate</td><td>▁</td></tr><tr><td>Train Accuracy</td><td>▁</td></tr><tr><td>Train Loss</td><td>▁</td></tr><tr><td>Validation Accuracy</td><td>▁</td></tr><tr><td>Validation Loss</td><td>▁</td></tr></table><br/></div><div class=\"wandb-col\"><h3>Run summary:</h3><br/><table class=\"wandb\"><tr><td>Dropout Rate</td><td>0</td></tr><tr><td>Kernel Size</td><td>5</td></tr><tr><td>Learning Rate</td><td>0.001</td></tr><tr><td>Train Accuracy</td><td>94.40208</td></tr><tr><td>Train Loss</td><td>0.17288</td></tr><tr><td>Validation Accuracy</td><td>92.59167</td></tr><tr><td>Validation Loss</td><td>0.2538</td></tr></table><br/></div></div>"
      ],
      "text/plain": [
       "<IPython.core.display.HTML object>"
      ]
     },
     "metadata": {},
     "output_type": "display_data"
    },
    {
     "data": {
      "text/html": [
       " View run <strong style=\"color:#cdcd00\">clean-darkness-11</strong> at: <a href='https://wandb.ai/mitanshkayathwal/SMAI_As3_Q5_4/runs/zzhjv49r' target=\"_blank\">https://wandb.ai/mitanshkayathwal/SMAI_As3_Q5_4/runs/zzhjv49r</a><br/>Synced 4 W&B file(s), 0 media file(s), 0 artifact file(s) and 0 other file(s)"
      ],
      "text/plain": [
       "<IPython.core.display.HTML object>"
      ]
     },
     "metadata": {},
     "output_type": "display_data"
    },
    {
     "data": {
      "text/html": [
       "Find logs at: <code>./wandb/run-20231026_142148-zzhjv49r/logs</code>"
      ],
      "text/plain": [
       "<IPython.core.display.HTML object>"
      ]
     },
     "metadata": {},
     "output_type": "display_data"
    },
    {
     "data": {
      "text/html": [
       "Successfully finished last run (ID:zzhjv49r). Initializing new run:<br/>"
      ],
      "text/plain": [
       "<IPython.core.display.HTML object>"
      ]
     },
     "metadata": {},
     "output_type": "display_data"
    },
    {
     "data": {
      "text/html": [
       "Tracking run with wandb version 0.15.12"
      ],
      "text/plain": [
       "<IPython.core.display.HTML object>"
      ]
     },
     "metadata": {},
     "output_type": "display_data"
    },
    {
     "data": {
      "text/html": [
       "Run data is saved locally in <code>/Users/mitanshk/Desktop/assignment-3-Mitanshk01/wandb/run-20231026_142845-mwrf998l</code>"
      ],
      "text/plain": [
       "<IPython.core.display.HTML object>"
      ]
     },
     "metadata": {},
     "output_type": "display_data"
    },
    {
     "data": {
      "text/html": [
       "Syncing run <strong><a href='https://wandb.ai/mitanshkayathwal/SMAI_As3_Q5_4/runs/mwrf998l' target=\"_blank\">icy-sky-12</a></strong> to <a href='https://wandb.ai/mitanshkayathwal/SMAI_As3_Q5_4' target=\"_blank\">Weights & Biases</a> (<a href='https://wandb.me/run' target=\"_blank\">docs</a>)<br/>"
      ],
      "text/plain": [
       "<IPython.core.display.HTML object>"
      ]
     },
     "metadata": {},
     "output_type": "display_data"
    },
    {
     "data": {
      "text/html": [
       " View project at <a href='https://wandb.ai/mitanshkayathwal/SMAI_As3_Q5_4' target=\"_blank\">https://wandb.ai/mitanshkayathwal/SMAI_As3_Q5_4</a>"
      ],
      "text/plain": [
       "<IPython.core.display.HTML object>"
      ]
     },
     "metadata": {},
     "output_type": "display_data"
    },
    {
     "data": {
      "text/html": [
       " View run at <a href='https://wandb.ai/mitanshkayathwal/SMAI_As3_Q5_4/runs/mwrf998l' target=\"_blank\">https://wandb.ai/mitanshkayathwal/SMAI_As3_Q5_4/runs/mwrf998l</a>"
      ],
      "text/plain": [
       "<IPython.core.display.HTML object>"
      ]
     },
     "metadata": {},
     "output_type": "display_data"
    },
    {
     "data": {
      "text/html": [
       "Finishing last run (ID:mwrf998l) before initializing another..."
      ],
      "text/plain": [
       "<IPython.core.display.HTML object>"
      ]
     },
     "metadata": {},
     "output_type": "display_data"
    },
    {
     "data": {
      "text/html": [
       "Waiting for W&B process to finish... <strong style=\"color:green\">(success).</strong>"
      ],
      "text/plain": [
       "<IPython.core.display.HTML object>"
      ]
     },
     "metadata": {},
     "output_type": "display_data"
    },
    {
     "name": "stderr",
     "output_type": "stream",
     "text": [
      "wandb: WARNING Source type is set to 'repo' but some required information is missing from the environment. A job will not be created from this run. See https://docs.wandb.ai/guides/launch/create-job\n"
     ]
    },
    {
     "data": {
      "text/html": [
       "<style>\n",
       "    table.wandb td:nth-child(1) { padding: 0 10px; text-align: left ; width: auto;} td:nth-child(2) {text-align: left ; width: 100%}\n",
       "    .wandb-row { display: flex; flex-direction: row; flex-wrap: wrap; justify-content: flex-start; width: 100% }\n",
       "    .wandb-col { display: flex; flex-direction: column; flex-basis: 100%; flex: 1; padding: 10px; }\n",
       "    </style>\n",
       "<div class=\"wandb-row\"><div class=\"wandb-col\"><h3>Run history:</h3><br/><table class=\"wandb\"><tr><td>Dropout Rate</td><td>▁</td></tr><tr><td>Kernel Size</td><td>▁</td></tr><tr><td>Learning Rate</td><td>▁</td></tr><tr><td>Train Accuracy</td><td>▁</td></tr><tr><td>Train Loss</td><td>▁</td></tr><tr><td>Validation Accuracy</td><td>▁</td></tr><tr><td>Validation Loss</td><td>▁</td></tr></table><br/></div><div class=\"wandb-col\"><h3>Run summary:</h3><br/><table class=\"wandb\"><tr><td>Dropout Rate</td><td>0.25</td></tr><tr><td>Kernel Size</td><td>5</td></tr><tr><td>Learning Rate</td><td>0.001</td></tr><tr><td>Train Accuracy</td><td>92.98958</td></tr><tr><td>Train Loss</td><td>0.2188</td></tr><tr><td>Validation Accuracy</td><td>91.70833</td></tr><tr><td>Validation Loss</td><td>0.26209</td></tr></table><br/></div></div>"
      ],
      "text/plain": [
       "<IPython.core.display.HTML object>"
      ]
     },
     "metadata": {},
     "output_type": "display_data"
    },
    {
     "data": {
      "text/html": [
       " View run <strong style=\"color:#cdcd00\">icy-sky-12</strong> at: <a href='https://wandb.ai/mitanshkayathwal/SMAI_As3_Q5_4/runs/mwrf998l' target=\"_blank\">https://wandb.ai/mitanshkayathwal/SMAI_As3_Q5_4/runs/mwrf998l</a><br/>Synced 4 W&B file(s), 0 media file(s), 0 artifact file(s) and 0 other file(s)"
      ],
      "text/plain": [
       "<IPython.core.display.HTML object>"
      ]
     },
     "metadata": {},
     "output_type": "display_data"
    },
    {
     "data": {
      "text/html": [
       "Find logs at: <code>./wandb/run-20231026_142845-mwrf998l/logs</code>"
      ],
      "text/plain": [
       "<IPython.core.display.HTML object>"
      ]
     },
     "metadata": {},
     "output_type": "display_data"
    },
    {
     "data": {
      "text/html": [
       "Successfully finished last run (ID:mwrf998l). Initializing new run:<br/>"
      ],
      "text/plain": [
       "<IPython.core.display.HTML object>"
      ]
     },
     "metadata": {},
     "output_type": "display_data"
    },
    {
     "data": {
      "text/html": [
       "Tracking run with wandb version 0.15.12"
      ],
      "text/plain": [
       "<IPython.core.display.HTML object>"
      ]
     },
     "metadata": {},
     "output_type": "display_data"
    },
    {
     "data": {
      "text/html": [
       "Run data is saved locally in <code>/Users/mitanshk/Desktop/assignment-3-Mitanshk01/wandb/run-20231026_143621-5g97px2i</code>"
      ],
      "text/plain": [
       "<IPython.core.display.HTML object>"
      ]
     },
     "metadata": {},
     "output_type": "display_data"
    },
    {
     "data": {
      "text/html": [
       "Syncing run <strong><a href='https://wandb.ai/mitanshkayathwal/SMAI_As3_Q5_4/runs/5g97px2i' target=\"_blank\">ancient-vortex-13</a></strong> to <a href='https://wandb.ai/mitanshkayathwal/SMAI_As3_Q5_4' target=\"_blank\">Weights & Biases</a> (<a href='https://wandb.me/run' target=\"_blank\">docs</a>)<br/>"
      ],
      "text/plain": [
       "<IPython.core.display.HTML object>"
      ]
     },
     "metadata": {},
     "output_type": "display_data"
    },
    {
     "data": {
      "text/html": [
       " View project at <a href='https://wandb.ai/mitanshkayathwal/SMAI_As3_Q5_4' target=\"_blank\">https://wandb.ai/mitanshkayathwal/SMAI_As3_Q5_4</a>"
      ],
      "text/plain": [
       "<IPython.core.display.HTML object>"
      ]
     },
     "metadata": {},
     "output_type": "display_data"
    },
    {
     "data": {
      "text/html": [
       " View run at <a href='https://wandb.ai/mitanshkayathwal/SMAI_As3_Q5_4/runs/5g97px2i' target=\"_blank\">https://wandb.ai/mitanshkayathwal/SMAI_As3_Q5_4/runs/5g97px2i</a>"
      ],
      "text/plain": [
       "<IPython.core.display.HTML object>"
      ]
     },
     "metadata": {},
     "output_type": "display_data"
    },
    {
     "data": {
      "text/html": [
       "Finishing last run (ID:5g97px2i) before initializing another..."
      ],
      "text/plain": [
       "<IPython.core.display.HTML object>"
      ]
     },
     "metadata": {},
     "output_type": "display_data"
    },
    {
     "data": {
      "text/html": [
       "Waiting for W&B process to finish... <strong style=\"color:green\">(success).</strong>"
      ],
      "text/plain": [
       "<IPython.core.display.HTML object>"
      ]
     },
     "metadata": {},
     "output_type": "display_data"
    },
    {
     "name": "stderr",
     "output_type": "stream",
     "text": [
      "wandb: WARNING Source type is set to 'repo' but some required information is missing from the environment. A job will not be created from this run. See https://docs.wandb.ai/guides/launch/create-job\n"
     ]
    },
    {
     "data": {
      "text/html": [
       "<style>\n",
       "    table.wandb td:nth-child(1) { padding: 0 10px; text-align: left ; width: auto;} td:nth-child(2) {text-align: left ; width: 100%}\n",
       "    .wandb-row { display: flex; flex-direction: row; flex-wrap: wrap; justify-content: flex-start; width: 100% }\n",
       "    .wandb-col { display: flex; flex-direction: column; flex-basis: 100%; flex: 1; padding: 10px; }\n",
       "    </style>\n",
       "<div class=\"wandb-row\"><div class=\"wandb-col\"><h3>Run history:</h3><br/><table class=\"wandb\"><tr><td>Dropout Rate</td><td>▁</td></tr><tr><td>Kernel Size</td><td>▁</td></tr><tr><td>Learning Rate</td><td>▁</td></tr><tr><td>Train Accuracy</td><td>▁</td></tr><tr><td>Train Loss</td><td>▁</td></tr><tr><td>Validation Accuracy</td><td>▁</td></tr><tr><td>Validation Loss</td><td>▁</td></tr></table><br/></div><div class=\"wandb-col\"><h3>Run summary:</h3><br/><table class=\"wandb\"><tr><td>Dropout Rate</td><td>0</td></tr><tr><td>Kernel Size</td><td>3</td></tr><tr><td>Learning Rate</td><td>0.008</td></tr><tr><td>Train Accuracy</td><td>83.36875</td></tr><tr><td>Train Loss</td><td>0.55297</td></tr><tr><td>Validation Accuracy</td><td>85.13333</td></tr><tr><td>Validation Loss</td><td>0.48534</td></tr></table><br/></div></div>"
      ],
      "text/plain": [
       "<IPython.core.display.HTML object>"
      ]
     },
     "metadata": {},
     "output_type": "display_data"
    },
    {
     "data": {
      "text/html": [
       " View run <strong style=\"color:#cdcd00\">ancient-vortex-13</strong> at: <a href='https://wandb.ai/mitanshkayathwal/SMAI_As3_Q5_4/runs/5g97px2i' target=\"_blank\">https://wandb.ai/mitanshkayathwal/SMAI_As3_Q5_4/runs/5g97px2i</a><br/>Synced 4 W&B file(s), 0 media file(s), 0 artifact file(s) and 0 other file(s)"
      ],
      "text/plain": [
       "<IPython.core.display.HTML object>"
      ]
     },
     "metadata": {},
     "output_type": "display_data"
    },
    {
     "data": {
      "text/html": [
       "Find logs at: <code>./wandb/run-20231026_143621-5g97px2i/logs</code>"
      ],
      "text/plain": [
       "<IPython.core.display.HTML object>"
      ]
     },
     "metadata": {},
     "output_type": "display_data"
    },
    {
     "data": {
      "text/html": [
       "Successfully finished last run (ID:5g97px2i). Initializing new run:<br/>"
      ],
      "text/plain": [
       "<IPython.core.display.HTML object>"
      ]
     },
     "metadata": {},
     "output_type": "display_data"
    },
    {
     "data": {
      "text/html": [
       "Tracking run with wandb version 0.15.12"
      ],
      "text/plain": [
       "<IPython.core.display.HTML object>"
      ]
     },
     "metadata": {},
     "output_type": "display_data"
    },
    {
     "data": {
      "text/html": [
       "Run data is saved locally in <code>/Users/mitanshk/Desktop/assignment-3-Mitanshk01/wandb/run-20231026_144003-3rep8bz7</code>"
      ],
      "text/plain": [
       "<IPython.core.display.HTML object>"
      ]
     },
     "metadata": {},
     "output_type": "display_data"
    },
    {
     "data": {
      "text/html": [
       "Syncing run <strong><a href='https://wandb.ai/mitanshkayathwal/SMAI_As3_Q5_4/runs/3rep8bz7' target=\"_blank\">breezy-shape-14</a></strong> to <a href='https://wandb.ai/mitanshkayathwal/SMAI_As3_Q5_4' target=\"_blank\">Weights & Biases</a> (<a href='https://wandb.me/run' target=\"_blank\">docs</a>)<br/>"
      ],
      "text/plain": [
       "<IPython.core.display.HTML object>"
      ]
     },
     "metadata": {},
     "output_type": "display_data"
    },
    {
     "data": {
      "text/html": [
       " View project at <a href='https://wandb.ai/mitanshkayathwal/SMAI_As3_Q5_4' target=\"_blank\">https://wandb.ai/mitanshkayathwal/SMAI_As3_Q5_4</a>"
      ],
      "text/plain": [
       "<IPython.core.display.HTML object>"
      ]
     },
     "metadata": {},
     "output_type": "display_data"
    },
    {
     "data": {
      "text/html": [
       " View run at <a href='https://wandb.ai/mitanshkayathwal/SMAI_As3_Q5_4/runs/3rep8bz7' target=\"_blank\">https://wandb.ai/mitanshkayathwal/SMAI_As3_Q5_4/runs/3rep8bz7</a>"
      ],
      "text/plain": [
       "<IPython.core.display.HTML object>"
      ]
     },
     "metadata": {},
     "output_type": "display_data"
    },
    {
     "data": {
      "text/html": [
       "Finishing last run (ID:3rep8bz7) before initializing another..."
      ],
      "text/plain": [
       "<IPython.core.display.HTML object>"
      ]
     },
     "metadata": {},
     "output_type": "display_data"
    },
    {
     "data": {
      "text/html": [
       "Waiting for W&B process to finish... <strong style=\"color:green\">(success).</strong>"
      ],
      "text/plain": [
       "<IPython.core.display.HTML object>"
      ]
     },
     "metadata": {},
     "output_type": "display_data"
    },
    {
     "name": "stderr",
     "output_type": "stream",
     "text": [
      "wandb: WARNING Source type is set to 'repo' but some required information is missing from the environment. A job will not be created from this run. See https://docs.wandb.ai/guides/launch/create-job\n"
     ]
    },
    {
     "data": {
      "text/html": [
       "<style>\n",
       "    table.wandb td:nth-child(1) { padding: 0 10px; text-align: left ; width: auto;} td:nth-child(2) {text-align: left ; width: 100%}\n",
       "    .wandb-row { display: flex; flex-direction: row; flex-wrap: wrap; justify-content: flex-start; width: 100% }\n",
       "    .wandb-col { display: flex; flex-direction: column; flex-basis: 100%; flex: 1; padding: 10px; }\n",
       "    </style>\n",
       "<div class=\"wandb-row\"><div class=\"wandb-col\"><h3>Run history:</h3><br/><table class=\"wandb\"><tr><td>Dropout Rate</td><td>▁</td></tr><tr><td>Kernel Size</td><td>▁</td></tr><tr><td>Learning Rate</td><td>▁</td></tr><tr><td>Train Accuracy</td><td>▁</td></tr><tr><td>Train Loss</td><td>▁</td></tr><tr><td>Validation Accuracy</td><td>▁</td></tr><tr><td>Validation Loss</td><td>▁</td></tr></table><br/></div><div class=\"wandb-col\"><h3>Run summary:</h3><br/><table class=\"wandb\"><tr><td>Dropout Rate</td><td>0.25</td></tr><tr><td>Kernel Size</td><td>3</td></tr><tr><td>Learning Rate</td><td>0.008</td></tr><tr><td>Train Accuracy</td><td>71.61667</td></tr><tr><td>Train Loss</td><td>0.90457</td></tr><tr><td>Validation Accuracy</td><td>71.08333</td></tr><tr><td>Validation Loss</td><td>0.91278</td></tr></table><br/></div></div>"
      ],
      "text/plain": [
       "<IPython.core.display.HTML object>"
      ]
     },
     "metadata": {},
     "output_type": "display_data"
    },
    {
     "data": {
      "text/html": [
       " View run <strong style=\"color:#cdcd00\">breezy-shape-14</strong> at: <a href='https://wandb.ai/mitanshkayathwal/SMAI_As3_Q5_4/runs/3rep8bz7' target=\"_blank\">https://wandb.ai/mitanshkayathwal/SMAI_As3_Q5_4/runs/3rep8bz7</a><br/>Synced 4 W&B file(s), 0 media file(s), 0 artifact file(s) and 0 other file(s)"
      ],
      "text/plain": [
       "<IPython.core.display.HTML object>"
      ]
     },
     "metadata": {},
     "output_type": "display_data"
    },
    {
     "data": {
      "text/html": [
       "Find logs at: <code>./wandb/run-20231026_144003-3rep8bz7/logs</code>"
      ],
      "text/plain": [
       "<IPython.core.display.HTML object>"
      ]
     },
     "metadata": {},
     "output_type": "display_data"
    },
    {
     "data": {
      "text/html": [
       "Successfully finished last run (ID:3rep8bz7). Initializing new run:<br/>"
      ],
      "text/plain": [
       "<IPython.core.display.HTML object>"
      ]
     },
     "metadata": {},
     "output_type": "display_data"
    },
    {
     "data": {
      "text/html": [
       "Tracking run with wandb version 0.15.12"
      ],
      "text/plain": [
       "<IPython.core.display.HTML object>"
      ]
     },
     "metadata": {},
     "output_type": "display_data"
    },
    {
     "data": {
      "text/html": [
       "Run data is saved locally in <code>/Users/mitanshk/Desktop/assignment-3-Mitanshk01/wandb/run-20231026_144355-kllwk8gr</code>"
      ],
      "text/plain": [
       "<IPython.core.display.HTML object>"
      ]
     },
     "metadata": {},
     "output_type": "display_data"
    },
    {
     "data": {
      "text/html": [
       "Syncing run <strong><a href='https://wandb.ai/mitanshkayathwal/SMAI_As3_Q5_4/runs/kllwk8gr' target=\"_blank\">kind-salad-15</a></strong> to <a href='https://wandb.ai/mitanshkayathwal/SMAI_As3_Q5_4' target=\"_blank\">Weights & Biases</a> (<a href='https://wandb.me/run' target=\"_blank\">docs</a>)<br/>"
      ],
      "text/plain": [
       "<IPython.core.display.HTML object>"
      ]
     },
     "metadata": {},
     "output_type": "display_data"
    },
    {
     "data": {
      "text/html": [
       " View project at <a href='https://wandb.ai/mitanshkayathwal/SMAI_As3_Q5_4' target=\"_blank\">https://wandb.ai/mitanshkayathwal/SMAI_As3_Q5_4</a>"
      ],
      "text/plain": [
       "<IPython.core.display.HTML object>"
      ]
     },
     "metadata": {},
     "output_type": "display_data"
    },
    {
     "data": {
      "text/html": [
       " View run at <a href='https://wandb.ai/mitanshkayathwal/SMAI_As3_Q5_4/runs/kllwk8gr' target=\"_blank\">https://wandb.ai/mitanshkayathwal/SMAI_As3_Q5_4/runs/kllwk8gr</a>"
      ],
      "text/plain": [
       "<IPython.core.display.HTML object>"
      ]
     },
     "metadata": {},
     "output_type": "display_data"
    },
    {
     "data": {
      "text/html": [
       "Finishing last run (ID:kllwk8gr) before initializing another..."
      ],
      "text/plain": [
       "<IPython.core.display.HTML object>"
      ]
     },
     "metadata": {},
     "output_type": "display_data"
    },
    {
     "data": {
      "text/html": [
       "Waiting for W&B process to finish... <strong style=\"color:green\">(success).</strong>"
      ],
      "text/plain": [
       "<IPython.core.display.HTML object>"
      ]
     },
     "metadata": {},
     "output_type": "display_data"
    },
    {
     "name": "stderr",
     "output_type": "stream",
     "text": [
      "wandb: WARNING Source type is set to 'repo' but some required information is missing from the environment. A job will not be created from this run. See https://docs.wandb.ai/guides/launch/create-job\n"
     ]
    },
    {
     "data": {
      "text/html": [
       "<style>\n",
       "    table.wandb td:nth-child(1) { padding: 0 10px; text-align: left ; width: auto;} td:nth-child(2) {text-align: left ; width: 100%}\n",
       "    .wandb-row { display: flex; flex-direction: row; flex-wrap: wrap; justify-content: flex-start; width: 100% }\n",
       "    .wandb-col { display: flex; flex-direction: column; flex-basis: 100%; flex: 1; padding: 10px; }\n",
       "    </style>\n",
       "<div class=\"wandb-row\"><div class=\"wandb-col\"><h3>Run history:</h3><br/><table class=\"wandb\"><tr><td>Dropout Rate</td><td>▁</td></tr><tr><td>Kernel Size</td><td>▁</td></tr><tr><td>Learning Rate</td><td>▁</td></tr><tr><td>Train Accuracy</td><td>▁</td></tr><tr><td>Train Loss</td><td>▁</td></tr><tr><td>Validation Accuracy</td><td>▁</td></tr><tr><td>Validation Loss</td><td>▁</td></tr></table><br/></div><div class=\"wandb-col\"><h3>Run summary:</h3><br/><table class=\"wandb\"><tr><td>Dropout Rate</td><td>0</td></tr><tr><td>Kernel Size</td><td>5</td></tr><tr><td>Learning Rate</td><td>0.008</td></tr><tr><td>Train Accuracy</td><td>83.80208</td></tr><tr><td>Train Loss</td><td>0.56106</td></tr><tr><td>Validation Accuracy</td><td>83.025</td></tr><tr><td>Validation Loss</td><td>0.57756</td></tr></table><br/></div></div>"
      ],
      "text/plain": [
       "<IPython.core.display.HTML object>"
      ]
     },
     "metadata": {},
     "output_type": "display_data"
    },
    {
     "data": {
      "text/html": [
       " View run <strong style=\"color:#cdcd00\">kind-salad-15</strong> at: <a href='https://wandb.ai/mitanshkayathwal/SMAI_As3_Q5_4/runs/kllwk8gr' target=\"_blank\">https://wandb.ai/mitanshkayathwal/SMAI_As3_Q5_4/runs/kllwk8gr</a><br/>Synced 4 W&B file(s), 0 media file(s), 0 artifact file(s) and 0 other file(s)"
      ],
      "text/plain": [
       "<IPython.core.display.HTML object>"
      ]
     },
     "metadata": {},
     "output_type": "display_data"
    },
    {
     "data": {
      "text/html": [
       "Find logs at: <code>./wandb/run-20231026_144355-kllwk8gr/logs</code>"
      ],
      "text/plain": [
       "<IPython.core.display.HTML object>"
      ]
     },
     "metadata": {},
     "output_type": "display_data"
    },
    {
     "data": {
      "text/html": [
       "Successfully finished last run (ID:kllwk8gr). Initializing new run:<br/>"
      ],
      "text/plain": [
       "<IPython.core.display.HTML object>"
      ]
     },
     "metadata": {},
     "output_type": "display_data"
    },
    {
     "data": {
      "text/html": [
       "Tracking run with wandb version 0.15.12"
      ],
      "text/plain": [
       "<IPython.core.display.HTML object>"
      ]
     },
     "metadata": {},
     "output_type": "display_data"
    },
    {
     "data": {
      "text/html": [
       "Run data is saved locally in <code>/Users/mitanshk/Desktop/assignment-3-Mitanshk01/wandb/run-20231026_145058-4mvcxyid</code>"
      ],
      "text/plain": [
       "<IPython.core.display.HTML object>"
      ]
     },
     "metadata": {},
     "output_type": "display_data"
    },
    {
     "data": {
      "text/html": [
       "Syncing run <strong><a href='https://wandb.ai/mitanshkayathwal/SMAI_As3_Q5_4/runs/4mvcxyid' target=\"_blank\">lively-sun-16</a></strong> to <a href='https://wandb.ai/mitanshkayathwal/SMAI_As3_Q5_4' target=\"_blank\">Weights & Biases</a> (<a href='https://wandb.me/run' target=\"_blank\">docs</a>)<br/>"
      ],
      "text/plain": [
       "<IPython.core.display.HTML object>"
      ]
     },
     "metadata": {},
     "output_type": "display_data"
    },
    {
     "data": {
      "text/html": [
       " View project at <a href='https://wandb.ai/mitanshkayathwal/SMAI_As3_Q5_4' target=\"_blank\">https://wandb.ai/mitanshkayathwal/SMAI_As3_Q5_4</a>"
      ],
      "text/plain": [
       "<IPython.core.display.HTML object>"
      ]
     },
     "metadata": {},
     "output_type": "display_data"
    },
    {
     "data": {
      "text/html": [
       " View run at <a href='https://wandb.ai/mitanshkayathwal/SMAI_As3_Q5_4/runs/4mvcxyid' target=\"_blank\">https://wandb.ai/mitanshkayathwal/SMAI_As3_Q5_4/runs/4mvcxyid</a>"
      ],
      "text/plain": [
       "<IPython.core.display.HTML object>"
      ]
     },
     "metadata": {},
     "output_type": "display_data"
    }
   ],
   "source": [
    "learning_rates = [0.001, 0.008]\n",
    "kernel_sizes = [3, 5]\n",
    "dropout_rates = [0, 0.25]\n",
    "\n",
    "for lr in learning_rates:\n",
    "    for kernel_sz in kernel_sizes:\n",
    "        for dropout_rate in dropout_rates:\n",
    "            run = wandb.init(\n",
    "                        project=\"SMAI_As3_Q5_4\", entity=\"mitanshkayathwal\"\n",
    "                    )\n",
    "            \n",
    "            model = CNNModelPermutedMNIST(kernel_sz, dropout_rate)\n",
    "\n",
    "            criterion = nn.CrossEntropyLoss()\n",
    "            optimizer = optim.Adam(model.parameters(), lr)\n",
    "            num_epochs = 10\n",
    "            for epoch in range(num_epochs):\n",
    "                model.train()\n",
    "                train_loss = 0\n",
    "                correct_train = 0\n",
    "                total_train = 0\n",
    "                correct_val = 0\n",
    "                total_val = 0\n",
    "                val_loss = 0\n",
    "                \n",
    "                for images, labels in perm_train_loader:\n",
    "                    optimizer.zero_grad()\n",
    "                    outputs = model(images)\n",
    "                    loss = criterion(outputs, labels)\n",
    "                    loss.backward()\n",
    "                    optimizer.step()\n",
    "\n",
    "                    train_loss += loss.item()\n",
    "                    _, predicted = outputs.max(1)\n",
    "                    total_train += labels.size(0)\n",
    "                    correct_train += (predicted==labels).sum().item()\n",
    "\n",
    "                for images, labels in perm_val_loader:\n",
    "                    outputs = model(images)\n",
    "                    loss = criterion(outputs, labels)\n",
    "                    val_loss += loss.item()\n",
    "                    total_val += labels.size(0)\n",
    "                    _, predicted = outputs.max(1)\n",
    "                    correct_val += (predicted==labels).sum().item()\n",
    "\n",
    "                train_loss /= len(perm_train_loader)\n",
    "                val_loss /= len(perm_val_loader)\n",
    "\n",
    "                train_accuracy = 100* correct_train/total_train\n",
    "                val_accuracy = 100*correct_val/total_val\n",
    "            wandb.log({\"Learning Rate\": lr,\n",
    "                           \"Kernel Size\": kernel_sz,\n",
    "                           \"Dropout Rate\": dropout_rate,\n",
    "                           \"Train Accuracy\": train_accuracy,\n",
    "                           \"Validation Accuracy\": val_accuracy,\n",
    "                           \"Train Loss\": train_loss,\n",
    "                           \"Validation Loss\": val_loss\n",
    "                           })"
   ]
  },
  {
   "cell_type": "markdown",
   "metadata": {},
   "source": [
    "# Best Hyperparameters found using WandB:\n",
    "\n",
    "Kernel Size: 3\n",
    "\n",
    "Learning Rate: 0.001\n",
    "\n",
    "Training Accuracy: 97.14%\n",
    "\n",
    "Validation Accuracy: 94.76%\n",
    "\n",
    "Training Loss: 0.088\n",
    "\n",
    "Validation Loss: 0.2081"
   ]
  },
  {
   "cell_type": "code",
   "execution_count": 8,
   "metadata": {},
   "outputs": [],
   "source": [
    "model = CNNModelPermutedMNIST(3, 0.25)\n",
    "\n",
    "criterion = nn.CrossEntropyLoss()\n",
    "optimizer = optim.Adam(model.parameters(), lr=0.001)\n",
    "\n",
    "num_epochs = 10\n",
    "\n",
    "for epoch in range(num_epochs):\n",
    "    model.train()\n",
    "    \n",
    "    for images, labels in perm_train_loader:\n",
    "        optimizer.zero_grad()\n",
    "        outputs = model(images)\n",
    "        loss = criterion(outputs, labels)\n",
    "        loss.backward()\n",
    "        optimizer.step()"
   ]
  },
  {
   "cell_type": "code",
   "execution_count": 9,
   "metadata": {},
   "outputs": [
    {
     "name": "stdout",
     "output_type": "stream",
     "text": [
      "Test loss: 0.2059216628349416\n",
      "Test Accuracy: 94.71\n"
     ]
    }
   ],
   "source": [
    "test_accuracy = 0\n",
    "test_loss = 0\n",
    "total_test = 0\n",
    "correct_test = 0\n",
    "\n",
    "for images, labels in perm_test_loader:\n",
    "        outputs = model(images)\n",
    "        loss = criterion(outputs, labels)\n",
    "        test_loss += loss.item()\n",
    "        total_test += labels.size(0)\n",
    "        _, predicted = outputs.max(1)\n",
    "        correct_test += (predicted==labels).sum().item()\n",
    "\n",
    "                \n",
    "test_loss /= len(perm_test_loader)\n",
    "test_accuracy = 100* correct_test/total_test\n",
    "\n",
    "print(\"Test loss: \" + str(test_loss))\n",
    "print(\"Test Accuracy: \" + str(test_accuracy))"
   ]
  },
  {
   "cell_type": "markdown",
   "metadata": {},
   "source": [
    "## Analysis:\n",
    "\n",
    "a. Double MNIST:\n",
    "\n",
    "MLP: MLPs are  well-suited for tabular data or simple patterns, but they do not capture spatial relationships efficiently in images. In this case MLP performs very poorly for DoubleMNIST as can be seen through the low accuracies while training and testing.\n",
    "\n",
    "CNN: CNNs are designed to capture spatial features effectively. They perform significantly better on image datasets like MN2IST. The convolutional layers enable the CNN to detect hierarchical features, leading to better performance.\n",
    "\n",
    "b. Permuted MNIST:\n",
    "\n",
    "MLP: Since the spatial structure of images is destroyed in Permuted MNIST, MLPs face a challenging task of recognizing digits without relying on spatial relationships between pixels. MLPs perform better in this case\n",
    "\n",
    "CNN: CNNs do not perform as well on Permuted MNIST because they are designed to exploit spatial structures. They might struggle to adapt to the new feature representations.\n",
    "\n",
    "Observed Differences and Challenges:\n",
    "\n",
    "Training and Evaluation Times: CNNs are generally more computationally intensive during training due to their convolutional layers. This results in longer training times compared to MLPs.\n",
    "\n",
    "Overfitting: CNNs have more parameters and are prone to overfitting when there's limited data. Overfitting can be mitigated with techniques like dropout and weight decay. MLPs, having fewer parameters, might be less prone to overfitting.\n",
    "\n",
    "Potential for Overfitting:\n",
    "\n",
    "Overfitting in CNN: CNNs have a higher potential for overfitting, especially on smaller datasets, due to their larger number of learnable parameters. Regularization techniques like dropout and weight decay are essential to prevent overfitting.\n",
    "\n",
    "Overfitting in MLP: While MLPs are less prone to overfitting due to fewer parameters, they can still overfit, particularly when the model is too complex or the dataset is small. Regularization is also useful for MLPs."
   ]
  }
 ],
 "metadata": {
  "kernelspec": {
   "display_name": "Python 3",
   "language": "python",
   "name": "python3"
  },
  "language_info": {
   "codemirror_mode": {
    "name": "ipython",
    "version": 3
   },
   "file_extension": ".py",
   "mimetype": "text/x-python",
   "name": "python",
   "nbconvert_exporter": "python",
   "pygments_lexer": "ipython3",
   "version": "3.11.4"
  },
  "orig_nbformat": 4
 },
 "nbformat": 4,
 "nbformat_minor": 2
}
